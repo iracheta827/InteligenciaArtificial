{
  "nbformat": 4,
  "nbformat_minor": 0,
  "metadata": {
    "accelerator": "GPU",
    "colab": {
      "name": "PIA2.ipynb",
      "provenance": [],
      "collapsed_sections": [],
      "include_colab_link": true
    },
    "kernelspec": {
      "display_name": "Python 3",
      "name": "python3"
    },
    "language_info": {
      "name": "python"
    }
  },
  "cells": [
    {
      "cell_type": "markdown",
      "metadata": {
        "id": "view-in-github",
        "colab_type": "text"
      },
      "source": [
        "<a href=\"https://colab.research.google.com/github/iracheta827/InteligenciaArtificial/blob/main/IA_Eq5/PIA2.ipynb\" target=\"_parent\"><img src=\"https://colab.research.google.com/assets/colab-badge.svg\" alt=\"Open In Colab\"/></a>"
      ]
    },
    {
      "cell_type": "code",
      "metadata": {
        "id": "KaphFmlk8DbC"
      },
      "source": [
        "from tensorflow.keras.datasets import cifar100\n",
        "from tensorflow.keras.models import Sequential\n",
        "from tensorflow.keras.layers import Dense, Flatten, Conv2D, MaxPooling2D\n",
        "from tensorflow.keras.losses import sparse_categorical_crossentropy\n",
        "from tensorflow.keras.optimizers import Adam\n",
        "from tensorflow.keras.optimizers import RMSprop\n",
        "import matplotlib.pyplot as plt"
      ],
      "execution_count": null,
      "outputs": []
    },
    {
      "cell_type": "code",
      "metadata": {
        "id": "f8ih52Ea8N_f"
      },
      "source": [
        "# Model configuration\n",
        "batch_size = 50\n",
        "img_width, img_height, img_num_channels = 32, 32, 3\n",
        "loss_function = sparse_categorical_crossentropy\n",
        "no_classes = 100\n",
        "no_epochs = 50\n",
        "optimizer = RMSprop(learning_rate=0.0001)\n",
        "validation_split = 0.2\n",
        "verbosity = 1"
      ],
      "execution_count": null,
      "outputs": []
    },
    {
      "cell_type": "code",
      "metadata": {
        "colab": {
          "base_uri": "https://localhost:8080/"
        },
        "id": "M-Tze-s59i3k",
        "outputId": "691e1bfe-5282-41d5-c795-ab26506d3ea6"
      },
      "source": [
        "# Load CIFAR-10 data\n",
        "(input_train, target_train), (input_test, target_test) = cifar100.load_data(\"coarse\")"
      ],
      "execution_count": null,
      "outputs": [
        {
          "name": "stdout",
          "output_type": "stream",
          "text": [
            "Downloading data from https://www.cs.toronto.edu/~kriz/cifar-100-python.tar.gz\n",
            "169009152/169001437 [==============================] - 3s 0us/step\n",
            "169017344/169001437 [==============================] - 3s 0us/step\n"
          ]
        }
      ]
    },
    {
      "cell_type": "code",
      "metadata": {
        "colab": {
          "background_save": true,
          "base_uri": "https://localhost:8080/",
          "height": 1000
        },
        "id": "9lmA-r5L7F5f",
        "outputId": "4658ab39-7c0f-46e3-d36b-33072fd39e6a"
      },
      "source": [
        "plt.imshow(input_train[1])\n",
        "print(target_train[1])\n",
        "print(input_train[1])"
      ],
      "execution_count": null,
      "outputs": [
        {
          "name": "stdout",
          "output_type": "stream",
          "text": [
            "[15]\n",
            "[[[255 255 255]\n",
            "  [253 253 253]\n",
            "  [253 253 253]\n",
            "  ...\n",
            "  [253 253 253]\n",
            "  [253 253 253]\n",
            "  [255 255 255]]\n",
            "\n",
            " [[255 255 255]\n",
            "  [255 255 255]\n",
            "  [255 255 255]\n",
            "  ...\n",
            "  [255 255 255]\n",
            "  [255 255 255]\n",
            "  [255 255 255]]\n",
            "\n",
            " [[255 255 255]\n",
            "  [255 255 255]\n",
            "  [255 255 255]\n",
            "  ...\n",
            "  [255 255 255]\n",
            "  [255 255 255]\n",
            "  [255 255 255]]\n",
            "\n",
            " ...\n",
            "\n",
            " [[255 255 255]\n",
            "  [255 255 255]\n",
            "  [255 255 255]\n",
            "  ...\n",
            "  [255 255 255]\n",
            "  [255 255 255]\n",
            "  [255 255 255]]\n",
            "\n",
            " [[255 255 255]\n",
            "  [255 255 255]\n",
            "  [255 255 255]\n",
            "  ...\n",
            "  [255 255 255]\n",
            "  [255 255 255]\n",
            "  [255 255 255]]\n",
            "\n",
            " [[255 255 255]\n",
            "  [253 253 253]\n",
            "  [253 253 253]\n",
            "  ...\n",
            "  [253 253 253]\n",
            "  [253 253 253]\n",
            "  [255 255 255]]]\n"
          ]
        },
        {
          "data": {
            "image/png": "[encoded data removed]",
            "text/plain": [
              "<Figure size 432x288 with 1 Axes>"
            ]
          },
          "metadata": {},
          "output_type": "display_data"
        }
      ]
    },
    {
      "cell_type": "code",
      "metadata": {
        "id": "q--bCEwZ9nnl"
      },
      "source": [
        "# Determine shape of the data\n",
        "input_shape = (img_width, img_height, img_num_channels)"
      ],
      "execution_count": null,
      "outputs": []
    },
    {
      "cell_type": "code",
      "metadata": {
        "id": "_7vFCdZT-bAn"
      },
      "source": [
        "# Parse numbers as floats\n",
        "input_train = input_train.astype('float32')\n",
        "input_test = input_test.astype('float32')\n",
        "\n",
        "# Normalize data\n",
        "input_train = input_train / 255\n",
        "input_test = input_test / 255"
      ],
      "execution_count": null,
      "outputs": []
    },
    {
      "cell_type": "code",
      "metadata": {
        "colab": {
          "base_uri": "https://localhost:8080/"
        },
        "id": "i9rGYgqe-fRl",
        "outputId": "f5c80bc9-fe73-4b74-80e2-f1374c193581"
      },
      "source": [
        "# Create the model\n",
        "model = Sequential()\n",
        "model.add(Conv2D(128, kernel_size=(3, 3), activation='relu', input_shape=input_shape))\n",
        "model.add(MaxPooling2D(pool_size=(2, 2)))\n",
        "model.add(Conv2D(128, kernel_size=(3, 3), activation='relu'))\n",
        "model.add(MaxPooling2D(pool_size=(2, 2)))\n",
        "model.add(Conv2D(64, kernel_size=(3, 3), activation='relu'))\n",
        "model.add(MaxPooling2D(pool_size=(2, 2)))\n",
        "model.add(Flatten())\n",
        "model.add(Dense(512, activation='relu'))\n",
        "model.add(Dense(128, activation='relu'))\n",
        "model.add(Dense(no_classes, activation='softmax'))\n",
        "\n",
        "model.summary()"
      ],
      "execution_count": null,
      "outputs": [
        {
          "name": "stdout",
          "output_type": "stream",
          "text": [
            "Model: \"sequential_1\"\n",
            "_________________________________________________________________\n",
            " Layer (type)                Output Shape              Param #   \n",
            "=================================================================\n",
            " conv2d_3 (Conv2D)           (None, 30, 30, 128)       3584      \n",
            "                                                                 \n",
            " max_pooling2d_3 (MaxPooling  (None, 15, 15, 128)      0         \n",
            " 2D)                                                             \n",
            "                                                                 \n",
            " conv2d_4 (Conv2D)           (None, 13, 13, 128)       147584    \n",
            "                                                                 \n",
            " max_pooling2d_4 (MaxPooling  (None, 6, 6, 128)        0         \n",
            " 2D)                                                             \n",
            "                                                                 \n",
            " conv2d_5 (Conv2D)           (None, 4, 4, 64)          73792     \n",
            "                                                                 \n",
            " max_pooling2d_5 (MaxPooling  (None, 2, 2, 64)         0         \n",
            " 2D)                                                             \n",
            "                                                                 \n",
            " flatten_1 (Flatten)         (None, 256)               0         \n",
            "                                                                 \n",
            " dense_3 (Dense)             (None, 512)               131584    \n",
            "                                                                 \n",
            " dense_4 (Dense)             (None, 128)               65664     \n",
            "                                                                 \n",
            " dense_5 (Dense)             (None, 100)               12900     \n",
            "                                                                 \n",
            "=================================================================\n",
            "Total params: 435,108\n",
            "Trainable params: 435,108\n",
            "Non-trainable params: 0\n",
            "_________________________________________________________________\n"
          ]
        }
      ]
    },
    {
      "cell_type": "code",
      "metadata": {
        "colab": {
          "background_save": true,
          "base_uri": "https://localhost:8080/"
        },
        "id": "fS14o-wq-lr2",
        "outputId": "4c9d86ba-3cc9-4bbb-bf12-5b547f287f51"
      },
      "source": [
        "# Compile the model\n",
        "model.compile(loss=loss_function,\n",
        "              optimizer=optimizer,\n",
        "              metrics=['accuracy'])\n",
        "\n",
        "# Fit data to model\n",
        "history = model.fit(input_train, target_train,\n",
        "            batch_size=batch_size,\n",
        "            epochs=no_epochs,\n",
        "            verbose=verbosity,\n",
        "            validation_split=validation_split)"
      ],
      "execution_count": null,
      "outputs": [
        {
          "name": "stdout",
          "output_type": "stream",
          "text": [
            "Epoch 1/100\n",
            "400/400 [==============================] - 148s 368ms/step - loss: 2.6715 - accuracy: 0.1774 - val_loss: 2.3897 - val_accuracy: 0.2632\n",
            "Epoch 2/100\n",
            "400/400 [==============================] - 148s 369ms/step - loss: 2.2422 - accuracy: 0.3081 - val_loss: 2.1496 - val_accuracy: 0.3289\n",
            "Epoch 3/100\n",
            "400/400 [==============================] - 146s 365ms/step - loss: 2.0109 - accuracy: 0.3764 - val_loss: 1.9436 - val_accuracy: 0.4007\n",
            "Epoch 4/100\n",
            "400/400 [==============================] - 146s 366ms/step - loss: 1.8337 - accuracy: 0.4290 - val_loss: 1.8182 - val_accuracy: 0.4354\n",
            "Epoch 5/100\n",
            "400/400 [==============================] - 146s 366ms/step - loss: 1.6786 - accuracy: 0.4763 - val_loss: 1.7247 - val_accuracy: 0.4684\n",
            "Epoch 6/100\n",
            "400/400 [==============================] - 146s 366ms/step - loss: 1.5395 - accuracy: 0.5123 - val_loss: 1.7178 - val_accuracy: 0.4736\n",
            "Epoch 7/100\n",
            "400/400 [==============================] - 146s 365ms/step - loss: 1.4065 - accuracy: 0.5537 - val_loss: 1.7194 - val_accuracy: 0.4862\n",
            "Epoch 8/100\n",
            "400/400 [==============================] - 146s 364ms/step - loss: 1.2806 - accuracy: 0.5911 - val_loss: 1.6743 - val_accuracy: 0.5024\n",
            "Epoch 9/100\n",
            "400/400 [==============================] - 146s 365ms/step - loss: 1.1490 - accuracy: 0.6321 - val_loss: 1.6826 - val_accuracy: 0.5088\n",
            "Epoch 10/100\n",
            "400/400 [==============================] - 146s 365ms/step - loss: 1.0270 - accuracy: 0.6698 - val_loss: 1.7525 - val_accuracy: 0.5034\n",
            "Epoch 11/100\n",
            "400/400 [==============================] - 144s 359ms/step - loss: 0.9037 - accuracy: 0.7078 - val_loss: 1.9237 - val_accuracy: 0.4872\n",
            "Epoch 12/100\n",
            "400/400 [==============================] - 143s 359ms/step - loss: 0.7847 - accuracy: 0.7459 - val_loss: 1.9891 - val_accuracy: 0.5013\n",
            "Epoch 13/100\n",
            "400/400 [==============================] - 143s 358ms/step - loss: 0.6804 - accuracy: 0.7742 - val_loss: 2.1456 - val_accuracy: 0.5027\n",
            "Epoch 14/100\n",
            "400/400 [==============================] - 142s 356ms/step - loss: 0.5823 - accuracy: 0.8066 - val_loss: 2.3156 - val_accuracy: 0.5031\n",
            "Epoch 15/100\n",
            "400/400 [==============================] - 142s 356ms/step - loss: 0.5029 - accuracy: 0.8322 - val_loss: 2.5161 - val_accuracy: 0.4972\n",
            "Epoch 16/100\n",
            "400/400 [==============================] - 143s 357ms/step - loss: 0.4348 - accuracy: 0.8559 - val_loss: 2.8466 - val_accuracy: 0.4870\n",
            "Epoch 17/100\n",
            "400/400 [==============================] - 143s 356ms/step - loss: 0.3798 - accuracy: 0.8734 - val_loss: 2.6932 - val_accuracy: 0.5063\n",
            "Epoch 18/100\n",
            "400/400 [==============================] - 142s 356ms/step - loss: 0.3336 - accuracy: 0.8899 - val_loss: 3.1344 - val_accuracy: 0.4927\n",
            "Epoch 19/100\n",
            "400/400 [==============================] - 142s 355ms/step - loss: 0.2974 - accuracy: 0.8986 - val_loss: 3.3686 - val_accuracy: 0.4948\n",
            "Epoch 20/100\n",
            "400/400 [==============================] - 142s 356ms/step - loss: 0.2730 - accuracy: 0.9095 - val_loss: 3.6737 - val_accuracy: 0.4888\n",
            "Epoch 21/100\n",
            "400/400 [==============================] - 142s 354ms/step - loss: 0.2514 - accuracy: 0.9174 - val_loss: 3.8841 - val_accuracy: 0.4808\n",
            "Epoch 22/100\n",
            "400/400 [==============================] - 142s 354ms/step - loss: 0.2373 - accuracy: 0.9220 - val_loss: 3.8171 - val_accuracy: 0.4959\n",
            "Epoch 23/100\n",
            "400/400 [==============================] - 143s 357ms/step - loss: 0.2174 - accuracy: 0.9300 - val_loss: 4.2083 - val_accuracy: 0.4897\n",
            "Epoch 24/100\n",
            "400/400 [==============================] - 142s 355ms/step - loss: 0.2142 - accuracy: 0.9306 - val_loss: 4.2127 - val_accuracy: 0.4814\n",
            "Epoch 25/100\n",
            "400/400 [==============================] - ETA: 0s - loss: 0.2058 - accuracy: 0.9334"
          ]
        }
      ]
    },
    {
      "cell_type": "code",
      "metadata": {
        "colab": {
          "base_uri": "https://localhost:8080/",
          "height": 591
        },
        "id": "GybWIRFO4RCh",
        "outputId": "bc65a201-12c0-473d-b600-85fc9efb0f09"
      },
      "source": [
        "# Generate generalization metrics\n",
        "score = model.evaluate(input_test, target_test, verbose=0)\n",
        "print(f'Test loss: {score[0]} / Test accuracy: {score[1]}')\n",
        "\n",
        "# Visualize history\n",
        "# Plot history: Loss\n",
        "plt.plot(history.history['val_loss'])\n",
        "plt.title('Validation loss history')\n",
        "plt.ylabel('Loss value')\n",
        "plt.xlabel('No. epoch')\n",
        "plt.show()\n",
        "\n",
        "# Plot history: Accuracy\n",
        "plt.plot(history.history['val_accuracy'])\n",
        "plt.title('Validation accuracy history')\n",
        "plt.ylabel('Accuracy value (%)')\n",
        "plt.xlabel('No. epoch')\n",
        "plt.show()"
      ],
      "execution_count": null,
      "outputs": [
        {
          "name": "stdout",
          "output_type": "stream",
          "text": [
            "Test loss: 3.6080875396728516 / Test accuracy: 0.3472000062465668\n"
          ]
        },
        {
          "data": {
            "image/png": "[encoded data removed]",
            "text/plain": [
              "<Figure size 432x288 with 1 Axes>"
            ]
          },
          "metadata": {},
          "output_type": "display_data"
        },
        {
          "data": {
            "image/png": "[encoded data removed]",
            "text/plain": [
              "<Figure size 432x288 with 1 Axes>"
            ]
          },
          "metadata": {},
          "output_type": "display_data"
        }
      ]
    },
    {
      "cell_type": "code",
      "metadata": {
        "colab": {
          "base_uri": "https://localhost:8080/",
          "height": 565
        },
        "id": "tQr40S7Z4aRz",
        "outputId": "ffd69121-a6c5-4c41-bd1c-931cdf84bbea"
      },
      "source": [
        "%matplotlib inline\n",
        "import matplotlib.image  as mpimg\n",
        "import matplotlib.pyplot as plt\n",
        "#-----------------------------------------------------------\n",
        "# Retrieve a list of list results on training and test data\n",
        "# sets for each training epoch\n",
        "#-----------------------------------------------------------\n",
        "acc=history.history['accuracy']\n",
        "val_acc=history.history['val_accuracy']\n",
        "loss=history.history['loss']\n",
        "val_loss=history.history['val_loss']\n",
        " \n",
        "epochs=range(len(acc)) # Get number of epochs\n",
        " \n",
        "#------------------------------------------------\n",
        "# Plot training and validation accuracy per epoch\n",
        "#------------------------------------------------\n",
        "plt.plot(epochs, acc, 'r', \"Training Accuracy\")\n",
        "plt.plot(epochs, val_acc, 'b', \"Validation Accuracy\")\n",
        "plt.title('Training and validation accuracy')\n",
        "plt.figure()\n",
        " \n",
        "#------------------------------------------------\n",
        "# Plot training and validation loss per epoch\n",
        "#------------------------------------------------\n",
        "plt.plot(epochs, loss, 'r', \"Training Loss\")\n",
        "plt.plot(epochs, val_loss, 'b', \"Validation Loss\")\n",
        "plt.figure()"
      ],
      "execution_count": null,
      "outputs": [
        {
          "data": {
            "text/plain": [
              "<Figure size 432x288 with 0 Axes>"
            ]
          },
          "execution_count": 10,
          "metadata": {},
          "output_type": "execute_result"
        },
        {
          "data": {
            "image/png": "[encoded data removed]",
            "text/plain": [
              "<Figure size 432x288 with 1 Axes>"
            ]
          },
          "metadata": {},
          "output_type": "display_data"
        },
        {
          "data": {
            "image/png": "[encoded data removed]",
            "text/plain": [
              "<Figure size 432x288 with 1 Axes>"
            ]
          },
          "metadata": {},
          "output_type": "display_data"
        },
        {
          "data": {
            "text/plain": [
              "<Figure size 432x288 with 0 Axes>"
            ]
          },
          "metadata": {},
          "output_type": "display_data"
        }
      ]
    }
  ]
}