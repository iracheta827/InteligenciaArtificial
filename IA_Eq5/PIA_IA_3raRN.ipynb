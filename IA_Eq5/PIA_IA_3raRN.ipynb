{
  "nbformat": 4,
  "nbformat_minor": 0,
  "metadata": {
    "colab": {
      "name": "PIA_IA_3raRN.ipynb",
      "provenance": [],
      "include_colab_link": true
    },
    "kernelspec": {
      "name": "python3",
      "display_name": "Python 3"
    },
    "language_info": {
      "name": "python"
    }
  },
  "cells": [
    {
      "cell_type": "markdown",
      "metadata": {
        "id": "view-in-github",
        "colab_type": "text"
      },
      "source": [
        "<a href=\"https://colab.research.google.com/github/iracheta827/InteligenciaArtificial/blob/main/IA_Eq5/PIA_IA_3raRN.ipynb\" target=\"_parent\"><img src=\"https://colab.research.google.com/assets/colab-badge.svg\" alt=\"Open In Colab\"/></a>"
      ]
    },
    {
      "cell_type": "markdown",
      "metadata": {
        "id": "Chu4gleiKYYs"
      },
      "source": [
        "###Kevin Woge Rivera 1834672\n",
        "###Benito Briones Bautista 1838682\n",
        "###Jose Emanuel Martinez Rodriguez 1851368\n",
        "###Gregorio Missael Iracheta Arias 1851846"
      ]
    },
    {
      "cell_type": "code",
      "metadata": {
        "id": "roz9FOCnBiZB"
      },
      "source": [
        "from tensorflow.keras.datasets import cifar100\n",
        "from tensorflow.keras.models import Sequential\n",
        "from tensorflow.keras.layers import Dense, Flatten, Conv2D, MaxPooling2D\n",
        "from tensorflow.keras.losses import sparse_categorical_crossentropy\n",
        "from tensorflow.keras.optimizers import Adam\n",
        "from tensorflow.keras.optimizers import RMSprop\n",
        "import matplotlib.pyplot as plt\n",
        "from sklearn.model_selection import StratifiedShuffleSplit\n",
        "import numpy as np\n"
      ],
      "execution_count": null,
      "outputs": []
    },
    {
      "cell_type": "code",
      "metadata": {
        "id": "FL_1UZ6nBzn4"
      },
      "source": [
        "# Model configuration\n",
        "batch_size = 50\n",
        "img_width, img_height, img_num_channels = 32, 32, 3\n",
        "loss_function = sparse_categorical_crossentropy\n",
        "no_classes = 100\n",
        "no_epochs = 50\n",
        "optimizer = RMSprop(learning_rate=0.0001)\n",
        "validation_split = 0.2\n",
        "verbosity = 1\n",
        "channels = 3"
      ],
      "execution_count": null,
      "outputs": []
    },
    {
      "cell_type": "code",
      "metadata": {
        "id": "r246bpT2B5nB",
        "colab": {
          "base_uri": "https://localhost:8080/"
        },
        "outputId": "ee159856-221e-4de1-b5fe-a864191faf2c"
      },
      "source": [
        "# Load CIFAR-10 data\n",
        "(X_train, y_train), (X, y_test) = cifar100.load_data(\"coarse\")"
      ],
      "execution_count": null,
      "outputs": [
        {
          "output_type": "stream",
          "name": "stdout",
          "text": [
            "Downloading data from https://www.cs.toronto.edu/~kriz/cifar-100-python.tar.gz\n",
            "169009152/169001437 [==============================] - 2s 0us/step\n",
            "169017344/169001437 [==============================] - 2s 0us/step\n"
          ]
        }
      ]
    },
    {
      "cell_type": "code",
      "metadata": {
        "colab": {
          "base_uri": "https://localhost:8080/",
          "height": 1000
        },
        "id": "Ltu_1hcg7Q6M",
        "outputId": "ed89b27d-8b2f-4828-96af-5d8aab3b94e7"
      },
      "source": [
        "plt.imshow(X_train[2])\n",
        "print(y_train[2])\n",
        "print(X_train[2])"
      ],
      "execution_count": null,
      "outputs": [
        {
          "output_type": "stream",
          "name": "stdout",
          "text": [
            "[4]\n",
            "[[[250 250 248]\n",
            "  [248 249 243]\n",
            "  [247 248 239]\n",
            "  ...\n",
            "  [250 250 246]\n",
            "  [250 250 246]\n",
            "  [249 250 246]]\n",
            "\n",
            " [[250 251 245]\n",
            "  [248 249 238]\n",
            "  [247 247 234]\n",
            "  ...\n",
            "  [251 251 242]\n",
            "  [251 252 243]\n",
            "  [250 251 243]]\n",
            "\n",
            " [[251 251 244]\n",
            "  [250 248 237]\n",
            "  [250 245 233]\n",
            "  ...\n",
            "  [250 249 238]\n",
            "  [250 249 240]\n",
            "  [250 249 242]]\n",
            "\n",
            " ...\n",
            "\n",
            " [[221 213 191]\n",
            "  [221 206 176]\n",
            "  [225 207 181]\n",
            "  ...\n",
            "  [199 176 134]\n",
            "  [207 193 165]\n",
            "  [233 229 226]]\n",
            "\n",
            " [[225 223 204]\n",
            "  [227 219 196]\n",
            "  [229 216 200]\n",
            "  ...\n",
            "  [204 185 151]\n",
            "  [212 201 180]\n",
            "  [234 232 228]]\n",
            "\n",
            " [[233 233 226]\n",
            "  [234 232 224]\n",
            "  [235 230 225]\n",
            "  ...\n",
            "  [219 209 194]\n",
            "  [223 216 207]\n",
            "  [232 230 228]]]\n"
          ]
        },
        {
          "output_type": "display_data",
          "data": {
            "image/png": "[encoded data removed]",
            "text/plain": [
              "<Figure size 432x288 with 1 Axes>"
            ]
          },
          "metadata": {
            "needs_background": "light"
          }
        }
      ]
    },
    {
      "cell_type": "code",
      "metadata": {
        "id": "CrIUCwjgE81l"
      },
      "source": [
        "# Determine shape of the data\n",
        "input_shape = (img_width, img_height, img_num_channels)"
      ],
      "execution_count": null,
      "outputs": []
    },
    {
      "cell_type": "code",
      "metadata": {
        "colab": {
          "base_uri": "https://localhost:8080/"
        },
        "id": "NrWFVo_VCnr8",
        "outputId": "b8e5c23e-ed05-4759-d7ac-e36d8e8d563e"
      },
      "source": [
        "sss = StratifiedShuffleSplit(n_splits=2, test_size=0.2, random_state=123)\n",
        "\n",
        "for train_index, val_index in sss.split(X_train, y_train):\n",
        "    X_train_data, X_val_data = X_train[train_index], X_train[val_index]\n",
        "    y_train_data, y_val_data = y_train[train_index], y_train[val_index]\n",
        "\n",
        "print(\"Number of training samples: \", X_train_data.shape[0])\n",
        "print(\"Number of validation samples: \", X_val_data.shape[0])"
      ],
      "execution_count": null,
      "outputs": [
        {
          "output_type": "stream",
          "name": "stdout",
          "text": [
            "Number of training samples:  40000\n",
            "Number of validation samples:  10000\n"
          ]
        }
      ]
    },
    {
      "cell_type": "code",
      "metadata": {
        "id": "GKbmw7-bCJ-d"
      },
      "source": [
        "import tensorflow as tf\n",
        "class DataGenerator(tf.keras.utils.Sequence):\n",
        "    def __init__(self, images, labels=None, mode='fit', batch_size=batch_size, dim=(img_height, img_width), channels=channels, n_classes=no_classes, shuffle=True, augment=False):\n",
        "        \n",
        "        #initializing the configuration of the generator\n",
        "        self.images = images\n",
        "        self.labels = labels\n",
        "        self.mode = mode\n",
        "        self.batch_size = batch_size\n",
        "        self.dim = dim\n",
        "        self.channels = channels\n",
        "        self.n_classes = n_classes\n",
        "        self.shuffle = shuffle\n",
        "        self.augment = augment\n",
        "        self.on_epoch_end()\n",
        "   \n",
        "    #method to be called after every epoch\n",
        "    def on_epoch_end(self):\n",
        "        self.indexes = np.arange(self.images.shape[0])\n",
        "        if self.shuffle == True:\n",
        "            np.random.shuffle(self.indexes)\n",
        "    \n",
        "    #return numbers of steps in an epoch using samples & batch size\n",
        "    def __len__(self):\n",
        "        return int(np.floor(len(self.images) / self.batch_size))\n",
        "    \n",
        "    #this method is called with the batch number as an argument to #obtain a given batch of data\n",
        "    def __getitem__(self, index):\n",
        "        #generate one batch of data\n",
        "        #generate indexes of batch\n",
        "        batch_indexes = self.indexes[index * self.batch_size:(index+1) * self.batch_size]\n",
        "        \n",
        "        #generate mini-batch of X\n",
        "        X = np.empty((self.batch_size, *self.dim, self.channels))\n",
        "        for i, ID in enumerate(batch_indexes):\n",
        "            #generate pre-processed image\n",
        "            img = self.images[ID]\n",
        "            #image rescaling\n",
        "            img = img.astype(np.float32)/255.\n",
        "            #resizing as per new dimensions\n",
        "            img = resize_img(img, self.dim)\n",
        "            X[i] = img\n",
        "            \n",
        "        #generate mini-batch of y\n",
        "        if self.mode == 'fit':\n",
        "            y = self.labels[batch_indexes]\n",
        "            \n",
        "            #augmentation on the training dataset\n",
        "            if self.augment == True:\n",
        "                X = self.__augment_batch(X)\n",
        "            return X, y\n",
        "        \n",
        "        elif self.mode == 'predict':\n",
        "            return X\n",
        "        \n",
        "        else:\n",
        "            raise AttributeError(\"The mode should be set to either 'fit' or 'predict'.\")\n",
        "            \n",
        "    #augmentation for one image\n",
        "    def __random_transform(self, img):\n",
        "        composition = albu.Compose([albu.HorizontalFlip(p=0.5),\n",
        "                                   albu.VerticalFlip(p=0.5),\n",
        "                                   albu.GridDistortion(p=0.2),\n",
        "                                   albu.ElasticTransform(p=0.2)])\n",
        "        return composition(image=img)['image']\n",
        "    \n",
        "    #augmentation for batch of images\n",
        "    def __augment_batch(self, img_batch):\n",
        "        for i in range(img_batch.shape[0]):\n",
        "            img_batch[i] = self.__random_transform(img_batch[i])\n",
        "        return img_batch"
      ],
      "execution_count": null,
      "outputs": []
    },
    {
      "cell_type": "code",
      "metadata": {
        "id": "g9mwBimSDDIY"
      },
      "source": [
        "train_data_generator = DataGenerator(X_train_data, y_train_data, augment=True) \n",
        "valid_data_generator = DataGenerator(X_val_data, y_val_data, augment=False)"
      ],
      "execution_count": null,
      "outputs": []
    },
    {
      "cell_type": "code",
      "metadata": {
        "colab": {
          "base_uri": "https://localhost:8080/"
        },
        "id": "KIjvzAA9EjUa",
        "outputId": "5d1276b3-f6c3-4dfa-fb5f-4a150c74288f"
      },
      "source": [
        "# Create the model\n",
        "model = Sequential()\n",
        "model.add(Conv2D(128 , kernel_size=(3, 3), activation='relu', input_shape=input_shape))\n",
        "model.add(MaxPooling2D(pool_size=(2, 2)))\n",
        "model.add(Conv2D(64, kernel_size=(3, 3), activation='relu'))\n",
        "model.add(MaxPooling2D(pool_size=(2, 2)))\n",
        "model.add(Conv2D(64, kernel_size=(3, 3), activation='relu'))\n",
        "model.add(MaxPooling2D(pool_size=(2, 2)))\n",
        "model.add(Flatten())\n",
        "model.add(Dense(256, activation='relu'))\n",
        "model.add(Dense(256, activation='relu'))\n",
        "model.add(Dense(no_classes, activation='softmax'))\n",
        "\n",
        "model.summary()"
      ],
      "execution_count": null,
      "outputs": [
        {
          "output_type": "stream",
          "name": "stdout",
          "text": [
            "Model: \"sequential\"\n",
            "_________________________________________________________________\n",
            " Layer (type)                Output Shape              Param #   \n",
            "=================================================================\n",
            " conv2d (Conv2D)             (None, 30, 30, 128)       3584      \n",
            "                                                                 \n",
            " max_pooling2d (MaxPooling2D  (None, 15, 15, 128)      0         \n",
            " )                                                               \n",
            "                                                                 \n",
            " conv2d_1 (Conv2D)           (None, 13, 13, 64)        73792     \n",
            "                                                                 \n",
            " max_pooling2d_1 (MaxPooling  (None, 6, 6, 64)         0         \n",
            " 2D)                                                             \n",
            "                                                                 \n",
            " conv2d_2 (Conv2D)           (None, 4, 4, 64)          36928     \n",
            "                                                                 \n",
            " max_pooling2d_2 (MaxPooling  (None, 2, 2, 64)         0         \n",
            " 2D)                                                             \n",
            "                                                                 \n",
            " flatten (Flatten)           (None, 256)               0         \n",
            "                                                                 \n",
            " dense (Dense)               (None, 256)               65792     \n",
            "                                                                 \n",
            " dense_1 (Dense)             (None, 256)               65792     \n",
            "                                                                 \n",
            " dense_2 (Dense)             (None, 100)               25700     \n",
            "                                                                 \n",
            "=================================================================\n",
            "Total params: 271,588\n",
            "Trainable params: 271,588\n",
            "Non-trainable params: 0\n",
            "_________________________________________________________________\n"
          ]
        }
      ]
    },
    {
      "cell_type": "code",
      "metadata": {
        "colab": {
          "base_uri": "https://localhost:8080/"
        },
        "id": "eKrleWUZFFip",
        "outputId": "697e6f4d-0010-4426-b2b3-369438153e64"
      },
      "source": [
        "#Compile the model\n",
        "model.compile(loss=loss_function,\n",
        "              optimizer=optimizer,\n",
        "              metrics=['accuracy'])\n",
        "\n",
        "# Fit data to model\n",
        "history = model.fit(X_train, y_train,\n",
        "            batch_size=batch_size,\n",
        "            epochs=no_epochs,\n",
        "            verbose=verbosity,\n",
        "            validation_split=validation_split)"
      ],
      "execution_count": null,
      "outputs": [
        {
          "output_type": "stream",
          "name": "stdout",
          "text": [
            "Epoch 1/50\n",
            "800/800 [==============================] - 46s 20ms/step - loss: 2.8039 - accuracy: 0.1894 - val_loss: 2.4473 - val_accuracy: 0.2596\n",
            "Epoch 2/50\n",
            "800/800 [==============================] - 13s 16ms/step - loss: 2.3453 - accuracy: 0.2853 - val_loss: 2.2703 - val_accuracy: 0.3015\n",
            "Epoch 3/50\n",
            "800/800 [==============================] - 11s 14ms/step - loss: 2.1932 - accuracy: 0.3282 - val_loss: 2.1529 - val_accuracy: 0.3385\n",
            "Epoch 4/50\n",
            "800/800 [==============================] - 12s 15ms/step - loss: 2.0762 - accuracy: 0.3615 - val_loss: 2.1196 - val_accuracy: 0.3514\n",
            "Epoch 5/50\n",
            "800/800 [==============================] - 12s 15ms/step - loss: 1.9849 - accuracy: 0.3881 - val_loss: 2.0447 - val_accuracy: 0.3788\n",
            "Epoch 6/50\n",
            "800/800 [==============================] - 12s 15ms/step - loss: 1.9025 - accuracy: 0.4142 - val_loss: 2.0260 - val_accuracy: 0.3797\n",
            "Epoch 7/50\n",
            "800/800 [==============================] - 12s 14ms/step - loss: 1.8282 - accuracy: 0.4326 - val_loss: 1.9443 - val_accuracy: 0.4036\n",
            "Epoch 8/50\n",
            "800/800 [==============================] - 11s 14ms/step - loss: 1.7637 - accuracy: 0.4524 - val_loss: 1.9100 - val_accuracy: 0.4177\n",
            "Epoch 9/50\n",
            "800/800 [==============================] - 11s 14ms/step - loss: 1.7084 - accuracy: 0.4717 - val_loss: 1.8960 - val_accuracy: 0.4242\n",
            "Epoch 10/50\n",
            "800/800 [==============================] - 12s 15ms/step - loss: 1.6489 - accuracy: 0.4845 - val_loss: 1.8935 - val_accuracy: 0.4297\n",
            "Epoch 11/50\n",
            "800/800 [==============================] - 12s 15ms/step - loss: 1.5942 - accuracy: 0.5030 - val_loss: 2.0297 - val_accuracy: 0.4011\n",
            "Epoch 12/50\n",
            "800/800 [==============================] - 11s 14ms/step - loss: 1.5446 - accuracy: 0.5183 - val_loss: 1.8670 - val_accuracy: 0.4401\n",
            "Epoch 13/50\n",
            "800/800 [==============================] - 11s 14ms/step - loss: 1.4977 - accuracy: 0.5327 - val_loss: 1.8891 - val_accuracy: 0.4366\n",
            "Epoch 14/50\n",
            "800/800 [==============================] - 12s 15ms/step - loss: 1.4509 - accuracy: 0.5461 - val_loss: 1.9385 - val_accuracy: 0.4287\n",
            "Epoch 15/50\n",
            "800/800 [==============================] - 12s 15ms/step - loss: 1.4101 - accuracy: 0.5574 - val_loss: 1.8741 - val_accuracy: 0.4484\n",
            "Epoch 16/50\n",
            "800/800 [==============================] - 11s 14ms/step - loss: 1.3609 - accuracy: 0.5727 - val_loss: 1.8662 - val_accuracy: 0.4487\n",
            "Epoch 17/50\n",
            "800/800 [==============================] - 11s 14ms/step - loss: 1.3234 - accuracy: 0.5850 - val_loss: 1.9252 - val_accuracy: 0.4420\n",
            "Epoch 18/50\n",
            "800/800 [==============================] - 12s 15ms/step - loss: 1.2804 - accuracy: 0.5972 - val_loss: 1.8755 - val_accuracy: 0.4501\n",
            "Epoch 19/50\n",
            "800/800 [==============================] - 12s 15ms/step - loss: 1.2401 - accuracy: 0.6082 - val_loss: 1.9169 - val_accuracy: 0.4534\n",
            "Epoch 20/50\n",
            "800/800 [==============================] - 11s 14ms/step - loss: 1.1993 - accuracy: 0.6200 - val_loss: 1.9513 - val_accuracy: 0.4516\n",
            "Epoch 21/50\n",
            "800/800 [==============================] - 11s 14ms/step - loss: 1.1588 - accuracy: 0.6343 - val_loss: 1.9798 - val_accuracy: 0.4470\n",
            "Epoch 22/50\n",
            "800/800 [==============================] - 11s 14ms/step - loss: 1.1230 - accuracy: 0.6454 - val_loss: 1.9748 - val_accuracy: 0.4466\n",
            "Epoch 23/50\n",
            "800/800 [==============================] - 12s 15ms/step - loss: 1.0844 - accuracy: 0.6559 - val_loss: 2.0115 - val_accuracy: 0.4455\n",
            "Epoch 24/50\n",
            "800/800 [==============================] - 12s 15ms/step - loss: 1.0512 - accuracy: 0.6675 - val_loss: 2.0414 - val_accuracy: 0.4497\n",
            "Epoch 25/50\n",
            "800/800 [==============================] - 12s 15ms/step - loss: 1.0117 - accuracy: 0.6789 - val_loss: 2.0472 - val_accuracy: 0.4491\n",
            "Epoch 26/50\n",
            "800/800 [==============================] - 12s 15ms/step - loss: 0.9760 - accuracy: 0.6914 - val_loss: 2.0644 - val_accuracy: 0.4452\n",
            "Epoch 27/50\n",
            "800/800 [==============================] - 12s 15ms/step - loss: 0.9419 - accuracy: 0.7004 - val_loss: 2.1165 - val_accuracy: 0.4468\n",
            "Epoch 28/50\n",
            "800/800 [==============================] - 12s 15ms/step - loss: 0.9087 - accuracy: 0.7119 - val_loss: 2.0850 - val_accuracy: 0.4538\n",
            "Epoch 29/50\n",
            "800/800 [==============================] - 11s 14ms/step - loss: 0.8741 - accuracy: 0.7232 - val_loss: 2.1222 - val_accuracy: 0.4555\n",
            "Epoch 30/50\n",
            "800/800 [==============================] - 12s 15ms/step - loss: 0.8430 - accuracy: 0.7318 - val_loss: 2.2437 - val_accuracy: 0.4404\n",
            "Epoch 31/50\n",
            "800/800 [==============================] - 12s 15ms/step - loss: 0.8080 - accuracy: 0.7412 - val_loss: 2.2633 - val_accuracy: 0.4497\n",
            "Epoch 32/50\n",
            "800/800 [==============================] - 11s 14ms/step - loss: 0.7782 - accuracy: 0.7521 - val_loss: 2.2131 - val_accuracy: 0.4571\n",
            "Epoch 33/50\n",
            "800/800 [==============================] - 12s 15ms/step - loss: 0.7464 - accuracy: 0.7620 - val_loss: 2.2891 - val_accuracy: 0.4612\n",
            "Epoch 34/50\n",
            "800/800 [==============================] - 11s 14ms/step - loss: 0.7184 - accuracy: 0.7707 - val_loss: 2.3357 - val_accuracy: 0.4524\n",
            "Epoch 35/50\n",
            "800/800 [==============================] - 13s 16ms/step - loss: 0.6894 - accuracy: 0.7808 - val_loss: 2.3809 - val_accuracy: 0.4494\n",
            "Epoch 36/50\n",
            "800/800 [==============================] - 12s 15ms/step - loss: 0.6588 - accuracy: 0.7894 - val_loss: 2.4576 - val_accuracy: 0.4525\n",
            "Epoch 37/50\n",
            "800/800 [==============================] - 11s 14ms/step - loss: 0.6326 - accuracy: 0.7980 - val_loss: 2.4695 - val_accuracy: 0.4500\n",
            "Epoch 38/50\n",
            "800/800 [==============================] - 11s 14ms/step - loss: 0.6037 - accuracy: 0.8084 - val_loss: 2.5639 - val_accuracy: 0.4526\n",
            "Epoch 39/50\n",
            "800/800 [==============================] - 12s 15ms/step - loss: 0.5822 - accuracy: 0.8136 - val_loss: 2.5789 - val_accuracy: 0.4534\n",
            "Epoch 40/50\n",
            "800/800 [==============================] - 11s 14ms/step - loss: 0.5585 - accuracy: 0.8227 - val_loss: 2.6001 - val_accuracy: 0.4501\n",
            "Epoch 41/50\n",
            "800/800 [==============================] - 11s 14ms/step - loss: 0.5312 - accuracy: 0.8310 - val_loss: 2.7310 - val_accuracy: 0.4538\n",
            "Epoch 42/50\n",
            "800/800 [==============================] - 12s 15ms/step - loss: 0.5104 - accuracy: 0.8362 - val_loss: 2.7553 - val_accuracy: 0.4537\n",
            "Epoch 43/50\n",
            "800/800 [==============================] - 11s 14ms/step - loss: 0.4850 - accuracy: 0.8456 - val_loss: 2.8560 - val_accuracy: 0.4497\n",
            "Epoch 44/50\n",
            "800/800 [==============================] - 13s 16ms/step - loss: 0.4625 - accuracy: 0.8509 - val_loss: 3.0149 - val_accuracy: 0.4405\n",
            "Epoch 45/50\n",
            "800/800 [==============================] - 11s 14ms/step - loss: 0.4428 - accuracy: 0.8567 - val_loss: 3.0271 - val_accuracy: 0.4444\n",
            "Epoch 46/50\n",
            "800/800 [==============================] - 12s 15ms/step - loss: 0.4228 - accuracy: 0.8658 - val_loss: 3.0765 - val_accuracy: 0.4424\n",
            "Epoch 47/50\n",
            "800/800 [==============================] - 12s 15ms/step - loss: 0.4002 - accuracy: 0.8736 - val_loss: 3.1281 - val_accuracy: 0.4420\n",
            "Epoch 48/50\n",
            "800/800 [==============================] - 11s 14ms/step - loss: 0.3828 - accuracy: 0.8781 - val_loss: 3.3303 - val_accuracy: 0.4347\n",
            "Epoch 49/50\n",
            "800/800 [==============================] - 12s 15ms/step - loss: 0.3642 - accuracy: 0.8841 - val_loss: 3.3415 - val_accuracy: 0.4423\n",
            "Epoch 50/50\n",
            "800/800 [==============================] - 12s 15ms/step - loss: 0.3476 - accuracy: 0.8879 - val_loss: 3.3507 - val_accuracy: 0.4492\n"
          ]
        }
      ]
    },
    {
      "cell_type": "code",
      "metadata": {
        "id": "mvacBoGa4qM4",
        "colab": {
          "base_uri": "https://localhost:8080/",
          "height": 590
        },
        "outputId": "dfc38c1e-1f95-4962-cf28-1c79e82de1d7"
      },
      "source": [
        "# Generate generalization metrics\n",
        "score = model.evaluate(X, y_test, verbose=0)\n",
        "print(f'Test loss: {score[0]} / Test accuracy: {score[1]}')\n",
        "\n",
        "# Visualize history\n",
        "# Plot history: Loss\n",
        "plt.plot(history.history['val_loss'])\n",
        "plt.title('Validation loss history')\n",
        "plt.ylabel('Loss value')\n",
        "plt.xlabel('No. epoch')\n",
        "plt.show()\n",
        "\n",
        "# Plot history: Accuracy\n",
        "plt.plot(history.history['val_accuracy'])\n",
        "plt.title('Validation accuracy history')\n",
        "plt.ylabel('Accuracy value (%)')\n",
        "plt.xlabel('No. epoch')\n",
        "plt.show()"
      ],
      "execution_count": null,
      "outputs": [
        {
          "output_type": "stream",
          "name": "stdout",
          "text": [
            "Test loss: 3.3940954208374023 / Test accuracy: 0.44179999828338623\n"
          ]
        },
        {
          "output_type": "display_data",
          "data": {
            "image/png": "[encoded data removed]",
            "text/plain": [
              "<Figure size 432x288 with 1 Axes>"
            ]
          },
          "metadata": {
            "needs_background": "light"
          }
        },
        {
          "output_type": "display_data",
          "data": {
            "image/png": "[encoded data removed]",
            "text/plain": [
              "<Figure size 432x288 with 1 Axes>"
            ]
          },
          "metadata": {
            "needs_background": "light"
          }
        }
      ]
    },
    {
      "cell_type": "code",
      "metadata": {
        "id": "4jB5mLRC4eTK",
        "colab": {
          "base_uri": "https://localhost:8080/",
          "height": 562
        },
        "outputId": "78149127-6f4e-434a-91be-cbb8aa37734b"
      },
      "source": [
        "%matplotlib inline\n",
        "import matplotlib.image  as mpimg\n",
        "import matplotlib.pyplot as plt\n",
        "#-----------------------------------------------------------\n",
        "# Retrieve a list of list results on training and test data\n",
        "# sets for each training epoch\n",
        "#-----------------------------------------------------------\n",
        "acc=history.history['accuracy']\n",
        "val_acc=history.history['val_accuracy']\n",
        "loss=history.history['loss']\n",
        "val_loss=history.history['val_loss']\n",
        " \n",
        "epochs=range(len(acc)) # Get number of epochs\n",
        " \n",
        "#------------------------------------------------\n",
        "# Plot training and validation accuracy per epoch\n",
        "#------------------------------------------------\n",
        "plt.plot(epochs, acc, 'r', \"Training Accuracy\")\n",
        "plt.plot(epochs, val_acc, 'b', \"Validation Accuracy\")\n",
        "plt.title('Training and validation accuracy')\n",
        "plt.figure()\n",
        " \n",
        "#------------------------------------------------\n",
        "# Plot training and validation loss per epoch\n",
        "#------------------------------------------------\n",
        "plt.plot(epochs, loss, 'r', \"Training Loss\")\n",
        "plt.plot(epochs, val_loss, 'b', \"Validation Loss\")\n",
        "plt.figure()"
      ],
      "execution_count": null,
      "outputs": [
        {
          "output_type": "execute_result",
          "data": {
            "text/plain": [
              "<Figure size 432x288 with 0 Axes>"
            ]
          },
          "metadata": {},
          "execution_count": 14
        },
        {
          "output_type": "display_data",
          "data": {
            "image/png": "[encoded data removed]",
            "text/plain": [
              "<Figure size 432x288 with 1 Axes>"
            ]
          },
          "metadata": {
            "needs_background": "light"
          }
        },
        {
          "output_type": "display_data",
          "data": {
            "image/png": "[encoded data removed]",
            "text/plain": [
              "<Figure size 432x288 with 1 Axes>"
            ]
          },
          "metadata": {
            "needs_background": "light"
          }
        },
        {
          "output_type": "display_data",
          "data": {
            "text/plain": [
              "<Figure size 432x288 with 0 Axes>"
            ]
          },
          "metadata": {}
        }
      ]
    }
  ]
}