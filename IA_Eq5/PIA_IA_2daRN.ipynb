{
  "nbformat": 4,
  "nbformat_minor": 0,
  "metadata": {
    "colab": {
      "name": "PIA_IA_2daRN.ipynb",
      "provenance": [],
      "collapsed_sections": [],
      "include_colab_link": true
    },
    "kernelspec": {
      "name": "python3",
      "display_name": "Python 3"
    },
    "language_info": {
      "name": "python"
    }
  },
  "cells": [
    {
      "cell_type": "markdown",
      "metadata": {
        "id": "view-in-github",
        "colab_type": "text"
      },
      "source": [
        "<a href=\"https://colab.research.google.com/github/iracheta827/InteligenciaArtificial/blob/main/IA_Eq5/PIA_IA_2daRN.ipynb\" target=\"_parent\"><img src=\"https://colab.research.google.com/assets/colab-badge.svg\" alt=\"Open In Colab\"/></a>"
      ]
    },
    {
      "cell_type": "markdown",
      "metadata": {
        "id": "Q46ODKjaE1c6"
      },
      "source": [
        "###Kevin Woge Rivera 1834672\n",
        "###Benito Briones Bautista 1838682\n",
        "###Jose Emanuel Martinez Rodriguez 1851368\n",
        "###Gregorio Missael Iracheta Arias 1851846\n",
        "\n"
      ]
    },
    {
      "cell_type": "code",
      "metadata": {
        "id": "KaphFmlk8DbC"
      },
      "source": [
        "from tensorflow.keras.datasets import cifar100\n",
        "from tensorflow.keras.models import Sequential\n",
        "from tensorflow.keras.layers import Dense, Flatten, Conv2D, MaxPooling2D\n",
        "from tensorflow.keras.losses import sparse_categorical_crossentropy\n",
        "from tensorflow.keras.optimizers import Adam\n",
        "from tensorflow.keras.optimizers import RMSprop\n",
        "import matplotlib.pyplot as plt"
      ],
      "execution_count": null,
      "outputs": []
    },
    {
      "cell_type": "code",
      "metadata": {
        "id": "f8ih52Ea8N_f"
      },
      "source": [
        "# Model configuration\n",
        "batch_size = 50\n",
        "img_width, img_height, img_num_channels = 32, 32, 3\n",
        "loss_function = sparse_categorical_crossentropy\n",
        "no_classes = 100\n",
        "no_epochs = 50\n",
        "optimizer = RMSprop(learning_rate=0.0001)\n",
        "validation_split = 0.2\n",
        "verbosity = 1"
      ],
      "execution_count": null,
      "outputs": []
    },
    {
      "cell_type": "code",
      "metadata": {
        "id": "M-Tze-s59i3k",
        "colab": {
          "base_uri": "https://localhost:8080/"
        },
        "outputId": "691e1bfe-5282-41d5-c795-ab26506d3ea6"
      },
      "source": [
        "# Load CIFAR-10 data\n",
        "(input_train, target_train), (input_test, target_test) = cifar100.load_data(\"coarse\")"
      ],
      "execution_count": null,
      "outputs": [
        {
          "output_type": "stream",
          "name": "stdout",
          "text": [
            "Downloading data from https://www.cs.toronto.edu/~kriz/cifar-100-python.tar.gz\n",
            "169009152/169001437 [==============================] - 3s 0us/step\n",
            "169017344/169001437 [==============================] - 3s 0us/step\n"
          ]
        }
      ]
    },
    {
      "cell_type": "code",
      "metadata": {
        "colab": {
          "base_uri": "https://localhost:8080/",
          "height": 1000
        },
        "id": "9lmA-r5L7F5f",
        "outputId": "6578f8e8-1f96-4327-da0d-c6fc09937573"
      },
      "source": [
        "plt.imshow(input_train[1])\n",
        "print(target_train[1])\n",
        "print(input_train[1])"
      ],
      "execution_count": null,
      "outputs": [
        {
          "output_type": "stream",
          "name": "stdout",
          "text": [
            "[15]\n",
            "[[[255 255 255]\n",
            "  [253 253 253]\n",
            "  [253 253 253]\n",
            "  ...\n",
            "  [253 253 253]\n",
            "  [253 253 253]\n",
            "  [255 255 255]]\n",
            "\n",
            " [[255 255 255]\n",
            "  [255 255 255]\n",
            "  [255 255 255]\n",
            "  ...\n",
            "  [255 255 255]\n",
            "  [255 255 255]\n",
            "  [255 255 255]]\n",
            "\n",
            " [[255 255 255]\n",
            "  [255 255 255]\n",
            "  [255 255 255]\n",
            "  ...\n",
            "  [255 255 255]\n",
            "  [255 255 255]\n",
            "  [255 255 255]]\n",
            "\n",
            " ...\n",
            "\n",
            " [[255 255 255]\n",
            "  [255 255 255]\n",
            "  [255 255 255]\n",
            "  ...\n",
            "  [255 255 255]\n",
            "  [255 255 255]\n",
            "  [255 255 255]]\n",
            "\n",
            " [[255 255 255]\n",
            "  [255 255 255]\n",
            "  [255 255 255]\n",
            "  ...\n",
            "  [255 255 255]\n",
            "  [255 255 255]\n",
            "  [255 255 255]]\n",
            "\n",
            " [[255 255 255]\n",
            "  [253 253 253]\n",
            "  [253 253 253]\n",
            "  ...\n",
            "  [253 253 253]\n",
            "  [253 253 253]\n",
            "  [255 255 255]]]\n"
          ]
        },
        {
          "output_type": "display_data",
          "data": {
            "image/png": "[encoded data removed]",
            "text/plain": [
              "<Figure size 432x288 with 1 Axes>"
            ]
          },
          "metadata": {
            "needs_background": "light"
          }
        }
      ]
    },
    {
      "cell_type": "code",
      "metadata": {
        "id": "q--bCEwZ9nnl"
      },
      "source": [
        "# Determine shape of the data\n",
        "input_shape = (img_width, img_height, img_num_channels)"
      ],
      "execution_count": null,
      "outputs": []
    },
    {
      "cell_type": "code",
      "metadata": {
        "id": "_7vFCdZT-bAn"
      },
      "source": [
        "# Parse numbers as floats\n",
        "input_train = input_train.astype('float32')\n",
        "input_test = input_test.astype('float32')\n",
        "\n",
        "# Normalize data\n",
        "input_train = input_train / 255\n",
        "input_test = input_test / 255"
      ],
      "execution_count": null,
      "outputs": []
    },
    {
      "cell_type": "code",
      "metadata": {
        "id": "i9rGYgqe-fRl",
        "colab": {
          "base_uri": "https://localhost:8080/"
        },
        "outputId": "ea20d82f-b591-4d50-fcda-982e5a2cdae2"
      },
      "source": [
        "# Create the model\n",
        "model = Sequential()\n",
        "model.add(Conv2D(128, kernel_size=(3, 3), activation='relu', input_shape=input_shape))\n",
        "model.add(MaxPooling2D(pool_size=(2, 2)))\n",
        "model.add(Conv2D(128, kernel_size=(3, 3), activation='relu'))\n",
        "model.add(MaxPooling2D(pool_size=(2, 2)))\n",
        "model.add(Conv2D(64, kernel_size=(3, 3), activation='relu'))\n",
        "model.add(MaxPooling2D(pool_size=(2, 2)))\n",
        "model.add(Flatten())\n",
        "model.add(Dense(512, activation='relu'))\n",
        "model.add(Dense(128, activation='relu'))\n",
        "model.add(Dense(no_classes, activation='softmax'))\n",
        "\n",
        "model.summary()"
      ],
      "execution_count": null,
      "outputs": [
        {
          "output_type": "stream",
          "name": "stdout",
          "text": [
            "Model: \"sequential_3\"\n",
            "_________________________________________________________________\n",
            " Layer (type)                Output Shape              Param #   \n",
            "=================================================================\n",
            " conv2d_9 (Conv2D)           (None, 30, 30, 128)       3584      \n",
            "                                                                 \n",
            " max_pooling2d_9 (MaxPooling  (None, 15, 15, 128)      0         \n",
            " 2D)                                                             \n",
            "                                                                 \n",
            " conv2d_10 (Conv2D)          (None, 13, 13, 128)       147584    \n",
            "                                                                 \n",
            " max_pooling2d_10 (MaxPoolin  (None, 6, 6, 128)        0         \n",
            " g2D)                                                            \n",
            "                                                                 \n",
            " conv2d_11 (Conv2D)          (None, 4, 4, 64)          73792     \n",
            "                                                                 \n",
            " max_pooling2d_11 (MaxPoolin  (None, 2, 2, 64)         0         \n",
            " g2D)                                                            \n",
            "                                                                 \n",
            " flatten_3 (Flatten)         (None, 256)               0         \n",
            "                                                                 \n",
            " dense_9 (Dense)             (None, 512)               131584    \n",
            "                                                                 \n",
            " dense_10 (Dense)            (None, 128)               65664     \n",
            "                                                                 \n",
            " dense_11 (Dense)            (None, 100)               12900     \n",
            "                                                                 \n",
            "=================================================================\n",
            "Total params: 435,108\n",
            "Trainable params: 435,108\n",
            "Non-trainable params: 0\n",
            "_________________________________________________________________\n"
          ]
        }
      ]
    },
    {
      "cell_type": "code",
      "metadata": {
        "colab": {
          "base_uri": "https://localhost:8080/"
        },
        "id": "fS14o-wq-lr2",
        "outputId": "17f745de-b9bd-486f-bed0-9e99d3975c6d"
      },
      "source": [
        "# Compile the model\n",
        "model.compile(loss=loss_function,\n",
        "              optimizer=optimizer,\n",
        "              metrics=['accuracy'])\n",
        "\n",
        "# Fit data to model\n",
        "history = model.fit(input_train, target_train,\n",
        "            batch_size=batch_size,\n",
        "            epochs=no_epochs,\n",
        "            verbose=verbosity,\n",
        "            validation_split=validation_split)"
      ],
      "execution_count": null,
      "outputs": [
        {
          "output_type": "stream",
          "name": "stdout",
          "text": [
            "Epoch 1/70\n",
            "800/800 [==============================] - 18s 22ms/step - loss: 2.8988 - accuracy: 0.1191 - val_loss: 2.6636 - val_accuracy: 0.1689\n",
            "Epoch 2/70\n",
            "800/800 [==============================] - 13s 17ms/step - loss: 2.5680 - accuracy: 0.2092 - val_loss: 2.5016 - val_accuracy: 0.2404\n",
            "Epoch 3/70\n",
            "800/800 [==============================] - 14s 17ms/step - loss: 2.4086 - accuracy: 0.2608 - val_loss: 2.3660 - val_accuracy: 0.2706\n",
            "Epoch 4/70\n",
            "800/800 [==============================] - 14s 17ms/step - loss: 2.3071 - accuracy: 0.2925 - val_loss: 2.2606 - val_accuracy: 0.3007\n",
            "Epoch 5/70\n",
            "800/800 [==============================] - 13s 17ms/step - loss: 2.2357 - accuracy: 0.3092 - val_loss: 2.2065 - val_accuracy: 0.3189\n",
            "Epoch 6/70\n",
            "800/800 [==============================] - 14s 18ms/step - loss: 2.1715 - accuracy: 0.3284 - val_loss: 2.2052 - val_accuracy: 0.3140\n",
            "Epoch 7/70\n",
            "800/800 [==============================] - 14s 17ms/step - loss: 2.1155 - accuracy: 0.3450 - val_loss: 2.1077 - val_accuracy: 0.3445\n",
            "Epoch 8/70\n",
            "800/800 [==============================] - 14s 17ms/step - loss: 2.0671 - accuracy: 0.3626 - val_loss: 2.0894 - val_accuracy: 0.3550\n",
            "Epoch 9/70\n",
            "800/800 [==============================] - 14s 17ms/step - loss: 2.0218 - accuracy: 0.3741 - val_loss: 2.0512 - val_accuracy: 0.3619\n",
            "Epoch 10/70\n",
            "800/800 [==============================] - 15s 19ms/step - loss: 1.9799 - accuracy: 0.3884 - val_loss: 2.0854 - val_accuracy: 0.3499\n",
            "Epoch 11/70\n",
            "800/800 [==============================] - 18s 22ms/step - loss: 1.9389 - accuracy: 0.3990 - val_loss: 1.9708 - val_accuracy: 0.3889\n",
            "Epoch 12/70\n",
            "800/800 [==============================] - 18s 22ms/step - loss: 1.9036 - accuracy: 0.4110 - val_loss: 1.9444 - val_accuracy: 0.3945\n",
            "Epoch 13/70\n",
            "800/800 [==============================] - 17s 21ms/step - loss: 1.8670 - accuracy: 0.4211 - val_loss: 1.9460 - val_accuracy: 0.3932\n",
            "Epoch 14/70\n",
            "800/800 [==============================] - 16s 20ms/step - loss: 1.8324 - accuracy: 0.4323 - val_loss: 1.9106 - val_accuracy: 0.3988\n",
            "Epoch 15/70\n",
            "800/800 [==============================] - 14s 18ms/step - loss: 1.8038 - accuracy: 0.4394 - val_loss: 1.9013 - val_accuracy: 0.4043\n",
            "Epoch 16/70\n",
            "800/800 [==============================] - 14s 18ms/step - loss: 1.7721 - accuracy: 0.4495 - val_loss: 1.9029 - val_accuracy: 0.4078\n",
            "Epoch 17/70\n",
            "800/800 [==============================] - 13s 17ms/step - loss: 1.7438 - accuracy: 0.4561 - val_loss: 1.9611 - val_accuracy: 0.3940\n",
            "Epoch 18/70\n",
            "800/800 [==============================] - 13s 17ms/step - loss: 1.7137 - accuracy: 0.4674 - val_loss: 1.8289 - val_accuracy: 0.4304\n",
            "Epoch 19/70\n",
            "800/800 [==============================] - 13s 17ms/step - loss: 1.6879 - accuracy: 0.4733 - val_loss: 1.8053 - val_accuracy: 0.4389\n",
            "Epoch 20/70\n",
            "800/800 [==============================] - 13s 17ms/step - loss: 1.6607 - accuracy: 0.4855 - val_loss: 1.7959 - val_accuracy: 0.4433\n",
            "Epoch 21/70\n",
            "800/800 [==============================] - 13s 16ms/step - loss: 1.6353 - accuracy: 0.4875 - val_loss: 1.7839 - val_accuracy: 0.4413\n",
            "Epoch 22/70\n",
            "800/800 [==============================] - 14s 17ms/step - loss: 1.6083 - accuracy: 0.4992 - val_loss: 1.7754 - val_accuracy: 0.4490\n",
            "Epoch 23/70\n",
            "800/800 [==============================] - 13s 17ms/step - loss: 1.5844 - accuracy: 0.5029 - val_loss: 1.8025 - val_accuracy: 0.4418\n",
            "Epoch 24/70\n",
            "800/800 [==============================] - 14s 17ms/step - loss: 1.5598 - accuracy: 0.5114 - val_loss: 1.7403 - val_accuracy: 0.4598\n",
            "Epoch 25/70\n",
            "800/800 [==============================] - 13s 17ms/step - loss: 1.5373 - accuracy: 0.5163 - val_loss: 1.7272 - val_accuracy: 0.4655\n",
            "Epoch 26/70\n",
            "800/800 [==============================] - 14s 17ms/step - loss: 1.5152 - accuracy: 0.5257 - val_loss: 1.7436 - val_accuracy: 0.4616\n",
            "Epoch 27/70\n",
            "800/800 [==============================] - 14s 17ms/step - loss: 1.4927 - accuracy: 0.5322 - val_loss: 1.7460 - val_accuracy: 0.4637\n",
            "Epoch 28/70\n",
            "800/800 [==============================] - 14s 17ms/step - loss: 1.4680 - accuracy: 0.5405 - val_loss: 1.7535 - val_accuracy: 0.4655\n",
            "Epoch 29/70\n",
            "800/800 [==============================] - 14s 17ms/step - loss: 1.4470 - accuracy: 0.5459 - val_loss: 1.7070 - val_accuracy: 0.4711\n",
            "Epoch 30/70\n",
            "800/800 [==============================] - 14s 17ms/step - loss: 1.4229 - accuracy: 0.5542 - val_loss: 1.7456 - val_accuracy: 0.4627\n",
            "Epoch 31/70\n",
            "800/800 [==============================] - 13s 17ms/step - loss: 1.4021 - accuracy: 0.5589 - val_loss: 1.7144 - val_accuracy: 0.4708\n",
            "Epoch 32/70\n",
            "800/800 [==============================] - 14s 17ms/step - loss: 1.3819 - accuracy: 0.5648 - val_loss: 1.6901 - val_accuracy: 0.4834\n",
            "Epoch 33/70\n",
            "800/800 [==============================] - 13s 17ms/step - loss: 1.3579 - accuracy: 0.5732 - val_loss: 1.6719 - val_accuracy: 0.4877\n",
            "Epoch 34/70\n",
            "800/800 [==============================] - 14s 17ms/step - loss: 1.3375 - accuracy: 0.5803 - val_loss: 1.7200 - val_accuracy: 0.4801\n",
            "Epoch 35/70\n",
            "800/800 [==============================] - 14s 17ms/step - loss: 1.3173 - accuracy: 0.5875 - val_loss: 1.7487 - val_accuracy: 0.4747\n",
            "Epoch 36/70\n",
            "800/800 [==============================] - 14s 17ms/step - loss: 1.2951 - accuracy: 0.5912 - val_loss: 1.6901 - val_accuracy: 0.4881\n",
            "Epoch 37/70\n",
            "800/800 [==============================] - 13s 17ms/step - loss: 1.2789 - accuracy: 0.5985 - val_loss: 1.7001 - val_accuracy: 0.4863\n",
            "Epoch 38/70\n",
            "800/800 [==============================] - 14s 17ms/step - loss: 1.2566 - accuracy: 0.6041 - val_loss: 1.6767 - val_accuracy: 0.4923\n",
            "Epoch 39/70\n",
            "800/800 [==============================] - 14s 17ms/step - loss: 1.2357 - accuracy: 0.6098 - val_loss: 1.6883 - val_accuracy: 0.4974\n",
            "Epoch 40/70\n",
            "800/800 [==============================] - 14s 17ms/step - loss: 1.2144 - accuracy: 0.6178 - val_loss: 1.6990 - val_accuracy: 0.4891\n",
            "Epoch 41/70\n",
            "800/800 [==============================] - 13s 17ms/step - loss: 1.1971 - accuracy: 0.6230 - val_loss: 1.7162 - val_accuracy: 0.4929\n",
            "Epoch 42/70\n",
            "800/800 [==============================] - 14s 17ms/step - loss: 1.1780 - accuracy: 0.6279 - val_loss: 1.6778 - val_accuracy: 0.4984\n",
            "Epoch 43/70\n",
            "800/800 [==============================] - 14s 17ms/step - loss: 1.1593 - accuracy: 0.6342 - val_loss: 1.7100 - val_accuracy: 0.4979\n",
            "Epoch 44/70\n",
            "800/800 [==============================] - 14s 17ms/step - loss: 1.1372 - accuracy: 0.6412 - val_loss: 1.7028 - val_accuracy: 0.5000\n",
            "Epoch 45/70\n",
            "800/800 [==============================] - 14s 17ms/step - loss: 1.1210 - accuracy: 0.6459 - val_loss: 1.7492 - val_accuracy: 0.4922\n",
            "Epoch 46/70\n",
            "800/800 [==============================] - 13s 17ms/step - loss: 1.0961 - accuracy: 0.6522 - val_loss: 1.7400 - val_accuracy: 0.4909\n",
            "Epoch 47/70\n",
            "800/800 [==============================] - 14s 17ms/step - loss: 1.0816 - accuracy: 0.6587 - val_loss: 1.7354 - val_accuracy: 0.4980\n",
            "Epoch 48/70\n",
            "800/800 [==============================] - 14s 17ms/step - loss: 1.0640 - accuracy: 0.6625 - val_loss: 1.8056 - val_accuracy: 0.4847\n",
            "Epoch 49/70\n",
            "800/800 [==============================] - 14s 17ms/step - loss: 1.0443 - accuracy: 0.6688 - val_loss: 1.7850 - val_accuracy: 0.4863\n",
            "Epoch 50/70\n",
            "800/800 [==============================] - 14s 17ms/step - loss: 1.0229 - accuracy: 0.6762 - val_loss: 1.7447 - val_accuracy: 0.5072\n",
            "Epoch 51/70\n",
            "800/800 [==============================] - 14s 17ms/step - loss: 1.0044 - accuracy: 0.6832 - val_loss: 1.8702 - val_accuracy: 0.4847\n",
            "Epoch 52/70\n",
            "800/800 [==============================] - 13s 17ms/step - loss: 0.9907 - accuracy: 0.6861 - val_loss: 1.7712 - val_accuracy: 0.4993\n",
            "Epoch 53/70\n",
            "800/800 [==============================] - 14s 17ms/step - loss: 0.9701 - accuracy: 0.6945 - val_loss: 1.7662 - val_accuracy: 0.5014\n",
            "Epoch 54/70\n",
            "800/800 [==============================] - 14s 17ms/step - loss: 0.9534 - accuracy: 0.7006 - val_loss: 1.8110 - val_accuracy: 0.4952\n",
            "Epoch 55/70\n",
            "800/800 [==============================] - 14s 17ms/step - loss: 0.9340 - accuracy: 0.7054 - val_loss: 1.7985 - val_accuracy: 0.5047\n",
            "Epoch 56/70\n",
            "800/800 [==============================] - 13s 17ms/step - loss: 0.9137 - accuracy: 0.7113 - val_loss: 1.8360 - val_accuracy: 0.4985\n",
            "Epoch 57/70\n",
            "800/800 [==============================] - 13s 17ms/step - loss: 0.8960 - accuracy: 0.7162 - val_loss: 1.8687 - val_accuracy: 0.4958\n",
            "Epoch 58/70\n",
            "800/800 [==============================] - 14s 17ms/step - loss: 0.8805 - accuracy: 0.7223 - val_loss: 1.8597 - val_accuracy: 0.5007\n",
            "Epoch 59/70\n",
            "800/800 [==============================] - 14s 17ms/step - loss: 0.8613 - accuracy: 0.7276 - val_loss: 1.8736 - val_accuracy: 0.4908\n",
            "Epoch 60/70\n",
            "800/800 [==============================] - 13s 17ms/step - loss: 0.8459 - accuracy: 0.7312 - val_loss: 1.8845 - val_accuracy: 0.4995\n",
            "Epoch 61/70\n",
            "800/800 [==============================] - 13s 17ms/step - loss: 0.8263 - accuracy: 0.7392 - val_loss: 1.9253 - val_accuracy: 0.5030\n",
            "Epoch 62/70\n",
            "800/800 [==============================] - 14s 17ms/step - loss: 0.8084 - accuracy: 0.7419 - val_loss: 1.9508 - val_accuracy: 0.4951\n",
            "Epoch 63/70\n",
            "800/800 [==============================] - 14s 17ms/step - loss: 0.7936 - accuracy: 0.7501 - val_loss: 1.9754 - val_accuracy: 0.4958\n",
            "Epoch 64/70\n",
            "800/800 [==============================] - 13s 17ms/step - loss: 0.7735 - accuracy: 0.7543 - val_loss: 1.9812 - val_accuracy: 0.4902\n",
            "Epoch 65/70\n",
            "800/800 [==============================] - 14s 17ms/step - loss: 0.7592 - accuracy: 0.7612 - val_loss: 2.0505 - val_accuracy: 0.4809\n",
            "Epoch 66/70\n",
            "800/800 [==============================] - 13s 17ms/step - loss: 0.7427 - accuracy: 0.7647 - val_loss: 2.0068 - val_accuracy: 0.4934\n",
            "Epoch 67/70\n",
            "800/800 [==============================] - 13s 17ms/step - loss: 0.7234 - accuracy: 0.7720 - val_loss: 2.0322 - val_accuracy: 0.4963\n",
            "Epoch 68/70\n",
            "800/800 [==============================] - 14s 17ms/step - loss: 0.7081 - accuracy: 0.7762 - val_loss: 2.1266 - val_accuracy: 0.4882\n",
            "Epoch 69/70\n",
            "800/800 [==============================] - 14s 17ms/step - loss: 0.6925 - accuracy: 0.7815 - val_loss: 2.0560 - val_accuracy: 0.4998\n",
            "Epoch 70/70\n",
            "800/800 [==============================] - 13s 17ms/step - loss: 0.6744 - accuracy: 0.7868 - val_loss: 2.1310 - val_accuracy: 0.4877\n"
          ]
        }
      ]
    },
    {
      "cell_type": "code",
      "metadata": {
        "id": "GybWIRFO4RCh",
        "colab": {
          "base_uri": "https://localhost:8080/",
          "height": 591
        },
        "outputId": "b8345324-e2c9-40c2-a2ab-50b103e29480"
      },
      "source": [
        "# Generate generalization metrics\n",
        "score = model.evaluate(input_test, target_test, verbose=0)\n",
        "print(f'Test loss: {score[0]} / Test accuracy: {score[1]}')\n",
        "\n",
        "# Visualize history\n",
        "# Plot history: Loss\n",
        "plt.plot(history.history['val_loss'])\n",
        "plt.title('Validation loss history')\n",
        "plt.ylabel('Loss value')\n",
        "plt.xlabel('No. epoch')\n",
        "plt.show()\n",
        "\n",
        "# Plot history: Accuracy\n",
        "plt.plot(history.history['val_accuracy'])\n",
        "plt.title('Validation accuracy history')\n",
        "plt.ylabel('Accuracy value (%)')\n",
        "plt.xlabel('No. epoch')\n",
        "plt.show()"
      ],
      "execution_count": null,
      "outputs": [
        {
          "output_type": "stream",
          "name": "stdout",
          "text": [
            "Test loss: 2.1093993186950684 / Test accuracy: 0.4830999970436096\n"
          ]
        },
        {
          "output_type": "display_data",
          "data": {
            "image/png": "[encoded data removed]",
            "text/plain": [
              "<Figure size 432x288 with 1 Axes>"
            ]
          },
          "metadata": {
            "needs_background": "light"
          }
        },
        {
          "output_type": "display_data",
          "data": {
            "image/png": "[encoded data removed]",
            "text/plain": [
              "<Figure size 432x288 with 1 Axes>"
            ]
          },
          "metadata": {
            "needs_background": "light"
          }
        }
      ]
    },
    {
      "cell_type": "code",
      "metadata": {
        "id": "tQr40S7Z4aRz",
        "colab": {
          "base_uri": "https://localhost:8080/",
          "height": 565
        },
        "outputId": "a6df0460-b95d-428a-9aba-9adf25155389"
      },
      "source": [
        "%matplotlib inline\n",
        "import matplotlib.image  as mpimg\n",
        "import matplotlib.pyplot as plt\n",
        "#-----------------------------------------------------------\n",
        "# Retrieve a list of list results on training and test data\n",
        "# sets for each training epoch\n",
        "#-----------------------------------------------------------\n",
        "acc=history.history['accuracy']\n",
        "val_acc=history.history['val_accuracy']\n",
        "loss=history.history['loss']\n",
        "val_loss=history.history['val_loss']\n",
        " \n",
        "epochs=range(len(acc)) # Get number of epochs\n",
        " \n",
        "#------------------------------------------------\n",
        "# Plot training and validation accuracy per epoch\n",
        "#------------------------------------------------\n",
        "plt.plot(epochs, acc, 'r', \"Training Accuracy\")\n",
        "plt.plot(epochs, val_acc, 'b', \"Validation Accuracy\")\n",
        "plt.title('Training and validation accuracy')\n",
        "plt.figure()\n",
        " \n",
        "#------------------------------------------------\n",
        "# Plot training and validation loss per epoch\n",
        "#------------------------------------------------\n",
        "plt.plot(epochs, loss, 'r', \"Training Loss\")\n",
        "plt.plot(epochs, val_loss, 'b', \"Validation Loss\")\n",
        "plt.figure()"
      ],
      "execution_count": null,
      "outputs": [
        {
          "output_type": "execute_result",
          "data": {
            "text/plain": [
              "<Figure size 432x288 with 0 Axes>"
            ]
          },
          "metadata": {},
          "execution_count": 19
        },
        {
          "output_type": "display_data",
          "data": {
            "image/png": "[encoded data removed]",
            "text/plain": [
              "<Figure size 432x288 with 1 Axes>"
            ]
          },
          "metadata": {
            "needs_background": "light"
          }
        },
        {
          "output_type": "display_data",
          "data": {
            "image/png": "[encoded data removed]",
            "text/plain": [
              "<Figure size 432x288 with 1 Axes>"
            ]
          },
          "metadata": {
            "needs_background": "light"
          }
        },
        {
          "output_type": "display_data",
          "data": {
            "text/plain": [
              "<Figure size 432x288 with 0 Axes>"
            ]
          },
          "metadata": {}
        }
      ]
    }
  ]
}