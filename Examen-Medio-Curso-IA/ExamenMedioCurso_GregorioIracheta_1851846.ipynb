{
  "nbformat": 4,
  "nbformat_minor": 0,
  "metadata": {
    "colab": {
      "name": "ExamenMedioCurso.ipynb",
      "provenance": [],
      "toc_visible": true,
      "authorship_tag": "ABX9TyOXnEmspF+TUostu9iq3H/f",
      "include_colab_link": true
    },
    "kernelspec": {
      "name": "python3",
      "display_name": "Python 3"
    },
    "language_info": {
      "name": "python"
    }
  },
  "cells": [
    {
      "cell_type": "markdown",
      "metadata": {
        "id": "view-in-github",
        "colab_type": "text"
      },
      "source": [
        "<a href=\"https://colab.research.google.com/github/iracheta827/InteligenciaArtificial/blob/main/ExamenMedioCurso.ipynb\" target=\"_parent\"><img src=\"https://colab.research.google.com/assets/colab-badge.svg\" alt=\"Open In Colab\"/></a>"
      ]
    },
    {
      "cell_type": "markdown",
      "metadata": {
        "id": "9ZGw7cGpHr2A"
      },
      "source": [
        "# Examen Medio Curso"
      ]
    },
    {
      "cell_type": "markdown",
      "metadata": {
        "id": "gUm7OQmkMuA0"
      },
      "source": [
        "- Nombre: Gregorio Missael Iracheta Arias\n",
        "- Matrícula: 1851846\n",
        "- Clase Martes N4"
      ]
    },
    {
      "cell_type": "markdown",
      "metadata": {
        "id": "YsjE9a91NBcj"
      },
      "source": [
        "# Examen Ejercicio 1.1"
      ]
    },
    {
      "cell_type": "code",
      "metadata": {
        "id": "FRzNIlkehEhm",
        "colab": {
          "base_uri": "https://localhost:8080/"
        },
        "outputId": "b33be926-f407-4c15-f236-ca60fa76d2f9"
      },
      "source": [
        "num = int(input(\"Introduzca un número: \"))\n",
        "i = 1\n",
        "total = 0\n",
        "\n",
        "while i <= num:\n",
        "  total = total + i\n",
        "  i += 1\n",
        "print(total)"
      ],
      "execution_count": 8,
      "outputs": [
        {
          "output_type": "stream",
          "name": "stdout",
          "text": [
            "Introduzca un número: 4\n",
            "10\n"
          ]
        }
      ]
    },
    {
      "cell_type": "markdown",
      "metadata": {
        "id": "n63nplT1J3dG"
      },
      "source": [
        "# Examen Ejercicio 1.2"
      ]
    },
    {
      "cell_type": "code",
      "metadata": {
        "colab": {
          "base_uri": "https://localhost:8080/"
        },
        "id": "oIutcT4YJ7vd",
        "outputId": "d04b39e9-57bc-4c65-8576-319d2359ae19"
      },
      "source": [
        "print(\"Introduzca un rango de números:\")\n",
        "num1 = int(input(\"Rango Inicial: \"))\n",
        "num2 = int(input(\"Rango Final: \"))\n",
        "for x in range(num1, num2, 1):\n",
        "  if x % 2 == 0:\n",
        "    print(x)"
      ],
      "execution_count": 7,
      "outputs": [
        {
          "output_type": "stream",
          "name": "stdout",
          "text": [
            "Introduzca un rango de números:\n",
            "Rango Inicial: 6\n",
            "Rango Final: 31\n",
            "6\n",
            "8\n",
            "10\n",
            "12\n",
            "14\n",
            "16\n",
            "18\n",
            "20\n",
            "22\n",
            "24\n",
            "26\n",
            "28\n",
            "30\n"
          ]
        }
      ]
    }
  ]
}
