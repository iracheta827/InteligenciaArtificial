{
  "nbformat": 4,
  "nbformat_minor": 0,
  "metadata": {
    "colab": {
      "name": "PIA_IA_1raRN.ipynb",
      "provenance": [],
      "collapsed_sections": [],
      "include_colab_link": true
    },
    "kernelspec": {
      "name": "python3",
      "display_name": "Python 3"
    },
    "language_info": {
      "name": "python"
    },
    "accelerator": "GPU"
  },
  "cells": [
    {
      "cell_type": "markdown",
      "metadata": {
        "id": "view-in-github",
        "colab_type": "text"
      },
      "source": [
        "<a href=\"https://colab.research.google.com/github/iracheta827/InteligenciaArtificial/blob/main/PIA_IA_1raRN.ipynb\" target=\"_parent\"><img src=\"https://colab.research.google.com/assets/colab-badge.svg\" alt=\"Open In Colab\"/></a>"
      ]
    },
    {
      "cell_type": "markdown",
      "metadata": {
        "id": "V9AnPZIPKdpP"
      },
      "source": [
        "###Kevin Woge Rivera 1834672\n",
        "###Benito Briones Bautista 1838682\n",
        "###Jose Emanuel Martinez Rodriguez 1851368\n",
        "###Gregorio Missael Iracheta Arias 1851846"
      ]
    },
    {
      "cell_type": "code",
      "metadata": {
        "id": "H3-Fn8ERWtmn"
      },
      "source": [
        "from tensorflow.keras.datasets import cifar100\n",
        "from tensorflow.keras.models import Sequential\n",
        "from tensorflow.keras.layers import Dense, Flatten, Conv2D, MaxPooling2D\n",
        "from tensorflow.keras.losses import sparse_categorical_crossentropy\n",
        "from tensorflow.keras.optimizers import Adam\n",
        "import matplotlib.pyplot as plt"
      ],
      "execution_count": null,
      "outputs": []
    },
    {
      "cell_type": "code",
      "metadata": {
        "id": "HKputbtQXsCp"
      },
      "source": [
        "# Model configuration\n",
        "batch_size = 50\n",
        "img_width, img_height, img_num_channels = 32, 32, 3\n",
        "loss_function = sparse_categorical_crossentropy\n",
        "no_classes = 100\n",
        "no_epochs = 50\n",
        "optimizer = Adam(learning_rate=0.0001)\n",
        "validation_split = 0.2\n",
        "verbosity = 1"
      ],
      "execution_count": null,
      "outputs": []
    },
    {
      "cell_type": "code",
      "metadata": {
        "id": "5S7qIww_XwAe",
        "colab": {
          "base_uri": "https://localhost:8080/"
        },
        "outputId": "f80dfb92-6a2b-46b8-f7de-c781ececcb59"
      },
      "source": [
        "# Load CIFAR-10 data\n",
        "(input_train, target_train), (input_test, target_test) = cifar100.load_data(\"coarse\")"
      ],
      "execution_count": null,
      "outputs": [
        {
          "output_type": "stream",
          "name": "stdout",
          "text": [
            "Downloading data from https://www.cs.toronto.edu/~kriz/cifar-100-python.tar.gz\n",
            "169009152/169001437 [==============================] - 2s 0us/step\n",
            "169017344/169001437 [==============================] - 2s 0us/step\n"
          ]
        }
      ]
    },
    {
      "cell_type": "code",
      "metadata": {
        "id": "rcixQ1XT6aEg",
        "colab": {
          "base_uri": "https://localhost:8080/",
          "height": 1000
        },
        "outputId": "8e19eae0-004d-4792-d02c-bd966ce1d495"
      },
      "source": [
        "plt.imshow(input_train[0])\n",
        "print(target_train[0])\n",
        "print(input_train[0])"
      ],
      "execution_count": null,
      "outputs": [
        {
          "output_type": "stream",
          "name": "stdout",
          "text": [
            "[11]\n",
            "[[[255 255 255]\n",
            "  [255 255 255]\n",
            "  [255 255 255]\n",
            "  ...\n",
            "  [195 205 193]\n",
            "  [212 224 204]\n",
            "  [182 194 167]]\n",
            "\n",
            " [[255 255 255]\n",
            "  [254 254 254]\n",
            "  [254 254 254]\n",
            "  ...\n",
            "  [170 176 150]\n",
            "  [161 168 130]\n",
            "  [146 154 113]]\n",
            "\n",
            " [[255 255 255]\n",
            "  [254 254 254]\n",
            "  [255 255 255]\n",
            "  ...\n",
            "  [189 199 169]\n",
            "  [166 178 130]\n",
            "  [121 133  87]]\n",
            "\n",
            " ...\n",
            "\n",
            " [[148 185  79]\n",
            "  [142 182  57]\n",
            "  [140 179  60]\n",
            "  ...\n",
            "  [ 30  17   1]\n",
            "  [ 65  62  15]\n",
            "  [ 76  77  20]]\n",
            "\n",
            " [[122 157  66]\n",
            "  [120 155  58]\n",
            "  [126 160  71]\n",
            "  ...\n",
            "  [ 22  16   3]\n",
            "  [ 97 112  56]\n",
            "  [141 161  87]]\n",
            "\n",
            " [[ 87 122  41]\n",
            "  [ 88 122  39]\n",
            "  [101 134  56]\n",
            "  ...\n",
            "  [ 34  36  10]\n",
            "  [105 133  59]\n",
            "  [138 173  79]]]\n"
          ]
        },
        {
          "output_type": "display_data",
          "data": {
            "image/png": "[encoded data removed]",
            "text/plain": [
              "<Figure size 432x288 with 1 Axes>"
            ]
          },
          "metadata": {
            "needs_background": "light"
          }
        }
      ]
    },
    {
      "cell_type": "code",
      "metadata": {
        "id": "8U15pCynXzeu"
      },
      "source": [
        "# Determine shape of the data\n",
        "input_shape = (img_width, img_height, img_num_channels)"
      ],
      "execution_count": null,
      "outputs": []
    },
    {
      "cell_type": "code",
      "metadata": {
        "id": "68WtsQmZYBXH"
      },
      "source": [
        "# Parse numbers as floats\n",
        "input_train = input_train.astype('float32')\n",
        "input_test = input_test.astype('float32')\n",
        "\n",
        "# Normalize data\n",
        "input_train = input_train / 255\n",
        "input_test = input_test / 255"
      ],
      "execution_count": null,
      "outputs": []
    },
    {
      "cell_type": "code",
      "metadata": {
        "id": "zANfae0_YFVP",
        "colab": {
          "base_uri": "https://localhost:8080/"
        },
        "outputId": "14792cd9-cdf5-4968-884f-2434f02f7f75"
      },
      "source": [
        "# Create the model\n",
        "model = Sequential()\n",
        "model.add(Conv2D(128, kernel_size=(3, 3), activation='relu', input_shape=input_shape))\n",
        "model.add(MaxPooling2D(pool_size=(2, 2)))\n",
        "model.add(Conv2D(128, kernel_size=(3, 3), activation='relu'))\n",
        "model.add(MaxPooling2D(pool_size=(2, 2)))\n",
        "model.add(Conv2D(128, kernel_size=(3, 3), activation='relu'))\n",
        "model.add(MaxPooling2D(pool_size=(2, 2)))\n",
        "model.add(Flatten())\n",
        "model.add(Dense(512, activation='relu'))\n",
        "model.add(Dense(256, activation='relu'))\n",
        "model.add(Dense(no_classes, activation='softmax'))\n",
        "\n",
        "model.summary()"
      ],
      "execution_count": null,
      "outputs": [
        {
          "output_type": "stream",
          "name": "stdout",
          "text": [
            "Model: \"sequential\"\n",
            "_________________________________________________________________\n",
            " Layer (type)                Output Shape              Param #   \n",
            "=================================================================\n",
            " conv2d (Conv2D)             (None, 30, 30, 128)       3584      \n",
            "                                                                 \n",
            " max_pooling2d (MaxPooling2D  (None, 15, 15, 128)      0         \n",
            " )                                                               \n",
            "                                                                 \n",
            " conv2d_1 (Conv2D)           (None, 13, 13, 128)       147584    \n",
            "                                                                 \n",
            " max_pooling2d_1 (MaxPooling  (None, 6, 6, 128)        0         \n",
            " 2D)                                                             \n",
            "                                                                 \n",
            " conv2d_2 (Conv2D)           (None, 4, 4, 128)         147584    \n",
            "                                                                 \n",
            " max_pooling2d_2 (MaxPooling  (None, 2, 2, 128)        0         \n",
            " 2D)                                                             \n",
            "                                                                 \n",
            " flatten (Flatten)           (None, 512)               0         \n",
            "                                                                 \n",
            " dense (Dense)               (None, 512)               262656    \n",
            "                                                                 \n",
            " dense_1 (Dense)             (None, 256)               131328    \n",
            "                                                                 \n",
            " dense_2 (Dense)             (None, 100)               25700     \n",
            "                                                                 \n",
            "=================================================================\n",
            "Total params: 718,436\n",
            "Trainable params: 718,436\n",
            "Non-trainable params: 0\n",
            "_________________________________________________________________\n"
          ]
        }
      ]
    },
    {
      "cell_type": "code",
      "metadata": {
        "id": "XUl4JYdOYJNP",
        "colab": {
          "base_uri": "https://localhost:8080/"
        },
        "outputId": "f8fd466b-c3cc-42f6-f9fa-bd064e7b7a30"
      },
      "source": [
        "# Compile the model\n",
        "model.compile(loss=loss_function,\n",
        "              optimizer=optimizer,\n",
        "              metrics=['accuracy'])\n",
        "\n",
        "# Fit data to model\n",
        "history = model.fit(input_train, target_train,\n",
        "            batch_size=batch_size,\n",
        "            epochs=no_epochs,\n",
        "            verbose=verbosity,\n",
        "            validation_split=validation_split)"
      ],
      "execution_count": null,
      "outputs": [
        {
          "output_type": "stream",
          "name": "stdout",
          "text": [
            "Epoch 1/50\n",
            "800/800 [==============================] - 42s 16ms/step - loss: 2.8408 - accuracy: 0.1438 - val_loss: 2.5830 - val_accuracy: 0.2085\n",
            "Epoch 2/50\n",
            "800/800 [==============================] - 12s 16ms/step - loss: 2.4518 - accuracy: 0.2476 - val_loss: 2.3391 - val_accuracy: 0.2798\n",
            "Epoch 3/50\n",
            "800/800 [==============================] - 12s 16ms/step - loss: 2.2723 - accuracy: 0.3003 - val_loss: 2.2604 - val_accuracy: 0.2945\n",
            "Epoch 4/50\n",
            "800/800 [==============================] - 12s 16ms/step - loss: 2.1595 - accuracy: 0.3341 - val_loss: 2.1324 - val_accuracy: 0.3386\n",
            "Epoch 5/50\n",
            "800/800 [==============================] - 12s 15ms/step - loss: 2.0757 - accuracy: 0.3584 - val_loss: 2.0997 - val_accuracy: 0.3541\n",
            "Epoch 6/50\n",
            "800/800 [==============================] - 13s 16ms/step - loss: 2.0027 - accuracy: 0.3833 - val_loss: 2.0010 - val_accuracy: 0.3791\n",
            "Epoch 7/50\n",
            "800/800 [==============================] - 12s 15ms/step - loss: 1.9383 - accuracy: 0.4011 - val_loss: 1.9597 - val_accuracy: 0.3935\n",
            "Epoch 8/50\n",
            "800/800 [==============================] - 12s 15ms/step - loss: 1.8852 - accuracy: 0.4166 - val_loss: 1.9169 - val_accuracy: 0.4082\n",
            "Epoch 9/50\n",
            "800/800 [==============================] - 12s 16ms/step - loss: 1.8309 - accuracy: 0.4311 - val_loss: 1.8731 - val_accuracy: 0.4159\n",
            "Epoch 10/50\n",
            "800/800 [==============================] - 12s 15ms/step - loss: 1.7862 - accuracy: 0.4450 - val_loss: 1.8857 - val_accuracy: 0.4137\n",
            "Epoch 11/50\n",
            "800/800 [==============================] - 12s 16ms/step - loss: 1.7480 - accuracy: 0.4563 - val_loss: 1.8333 - val_accuracy: 0.4300\n",
            "Epoch 12/50\n",
            "800/800 [==============================] - 13s 16ms/step - loss: 1.7021 - accuracy: 0.4701 - val_loss: 1.8081 - val_accuracy: 0.4411\n",
            "Epoch 13/50\n",
            "800/800 [==============================] - 12s 15ms/step - loss: 1.6659 - accuracy: 0.4807 - val_loss: 1.7868 - val_accuracy: 0.4456\n",
            "Epoch 14/50\n",
            "800/800 [==============================] - 12s 15ms/step - loss: 1.6263 - accuracy: 0.4914 - val_loss: 1.7927 - val_accuracy: 0.4460\n",
            "Epoch 15/50\n",
            "800/800 [==============================] - 12s 16ms/step - loss: 1.5883 - accuracy: 0.5044 - val_loss: 1.7651 - val_accuracy: 0.4574\n",
            "Epoch 16/50\n",
            "800/800 [==============================] - 12s 15ms/step - loss: 1.5438 - accuracy: 0.5168 - val_loss: 1.7414 - val_accuracy: 0.4669\n",
            "Epoch 17/50\n",
            "800/800 [==============================] - 12s 15ms/step - loss: 1.5129 - accuracy: 0.5267 - val_loss: 1.7779 - val_accuracy: 0.4596\n",
            "Epoch 18/50\n",
            "800/800 [==============================] - 12s 15ms/step - loss: 1.4774 - accuracy: 0.5356 - val_loss: 1.7219 - val_accuracy: 0.4703\n",
            "Epoch 19/50\n",
            "800/800 [==============================] - 12s 16ms/step - loss: 1.4411 - accuracy: 0.5479 - val_loss: 1.7263 - val_accuracy: 0.4723\n",
            "Epoch 20/50\n",
            "800/800 [==============================] - 12s 15ms/step - loss: 1.4060 - accuracy: 0.5570 - val_loss: 1.7197 - val_accuracy: 0.4787\n",
            "Epoch 21/50\n",
            "800/800 [==============================] - 12s 15ms/step - loss: 1.3722 - accuracy: 0.5696 - val_loss: 1.7344 - val_accuracy: 0.4724\n",
            "Epoch 22/50\n",
            "800/800 [==============================] - 13s 16ms/step - loss: 1.3346 - accuracy: 0.5820 - val_loss: 1.7135 - val_accuracy: 0.4851\n",
            "Epoch 23/50\n",
            "800/800 [==============================] - 12s 15ms/step - loss: 1.3075 - accuracy: 0.5893 - val_loss: 1.7063 - val_accuracy: 0.4875\n",
            "Epoch 24/50\n",
            "800/800 [==============================] - 13s 16ms/step - loss: 1.2676 - accuracy: 0.6013 - val_loss: 1.7009 - val_accuracy: 0.4861\n",
            "Epoch 25/50\n",
            "800/800 [==============================] - 13s 16ms/step - loss: 1.2361 - accuracy: 0.6116 - val_loss: 1.7477 - val_accuracy: 0.4800\n",
            "Epoch 26/50\n",
            "800/800 [==============================] - 13s 16ms/step - loss: 1.1991 - accuracy: 0.6215 - val_loss: 1.7035 - val_accuracy: 0.4894\n",
            "Epoch 27/50\n",
            "800/800 [==============================] - 12s 15ms/step - loss: 1.1638 - accuracy: 0.6326 - val_loss: 1.7557 - val_accuracy: 0.4850\n",
            "Epoch 28/50\n",
            "800/800 [==============================] - 13s 16ms/step - loss: 1.1339 - accuracy: 0.6417 - val_loss: 1.7605 - val_accuracy: 0.4870\n",
            "Epoch 29/50\n",
            "800/800 [==============================] - 12s 15ms/step - loss: 1.0953 - accuracy: 0.6528 - val_loss: 1.7561 - val_accuracy: 0.4897\n",
            "Epoch 30/50\n",
            "800/800 [==============================] - 13s 16ms/step - loss: 1.0608 - accuracy: 0.6651 - val_loss: 1.7532 - val_accuracy: 0.4939\n",
            "Epoch 31/50\n",
            "800/800 [==============================] - 12s 16ms/step - loss: 1.0278 - accuracy: 0.6733 - val_loss: 1.7661 - val_accuracy: 0.4909\n",
            "Epoch 32/50\n",
            "800/800 [==============================] - 12s 15ms/step - loss: 0.9939 - accuracy: 0.6857 - val_loss: 1.8339 - val_accuracy: 0.4850\n",
            "Epoch 33/50\n",
            "800/800 [==============================] - 12s 15ms/step - loss: 0.9610 - accuracy: 0.6943 - val_loss: 1.8131 - val_accuracy: 0.4883\n",
            "Epoch 34/50\n",
            "800/800 [==============================] - 12s 15ms/step - loss: 0.9264 - accuracy: 0.7076 - val_loss: 1.8202 - val_accuracy: 0.4935\n",
            "Epoch 35/50\n",
            "800/800 [==============================] - 13s 16ms/step - loss: 0.8957 - accuracy: 0.7143 - val_loss: 1.8420 - val_accuracy: 0.4913\n",
            "Epoch 36/50\n",
            "800/800 [==============================] - 13s 16ms/step - loss: 0.8598 - accuracy: 0.7278 - val_loss: 1.8617 - val_accuracy: 0.4872\n",
            "Epoch 37/50\n",
            "800/800 [==============================] - 12s 15ms/step - loss: 0.8293 - accuracy: 0.7370 - val_loss: 1.8926 - val_accuracy: 0.4902\n",
            "Epoch 38/50\n",
            "800/800 [==============================] - 12s 15ms/step - loss: 0.7975 - accuracy: 0.7484 - val_loss: 1.9028 - val_accuracy: 0.4922\n",
            "Epoch 39/50\n",
            "800/800 [==============================] - 13s 16ms/step - loss: 0.7658 - accuracy: 0.7579 - val_loss: 2.0005 - val_accuracy: 0.4754\n",
            "Epoch 40/50\n",
            "800/800 [==============================] - 13s 16ms/step - loss: 0.7319 - accuracy: 0.7687 - val_loss: 2.0112 - val_accuracy: 0.4826\n",
            "Epoch 41/50\n",
            "800/800 [==============================] - 13s 16ms/step - loss: 0.7010 - accuracy: 0.7799 - val_loss: 2.0138 - val_accuracy: 0.4913\n",
            "Epoch 42/50\n",
            "800/800 [==============================] - 12s 15ms/step - loss: 0.6671 - accuracy: 0.7908 - val_loss: 2.0688 - val_accuracy: 0.4834\n",
            "Epoch 43/50\n",
            "800/800 [==============================] - 12s 15ms/step - loss: 0.6356 - accuracy: 0.7998 - val_loss: 2.0789 - val_accuracy: 0.4901\n",
            "Epoch 44/50\n",
            "800/800 [==============================] - 13s 16ms/step - loss: 0.6063 - accuracy: 0.8086 - val_loss: 2.1340 - val_accuracy: 0.4878\n",
            "Epoch 45/50\n",
            "800/800 [==============================] - 13s 16ms/step - loss: 0.5822 - accuracy: 0.8184 - val_loss: 2.1973 - val_accuracy: 0.4764\n",
            "Epoch 46/50\n",
            "800/800 [==============================] - 13s 16ms/step - loss: 0.5514 - accuracy: 0.8266 - val_loss: 2.2183 - val_accuracy: 0.4844\n",
            "Epoch 47/50\n",
            "800/800 [==============================] - 13s 16ms/step - loss: 0.5122 - accuracy: 0.8417 - val_loss: 2.3115 - val_accuracy: 0.4794\n",
            "Epoch 48/50\n",
            "800/800 [==============================] - 12s 15ms/step - loss: 0.4912 - accuracy: 0.8468 - val_loss: 2.3543 - val_accuracy: 0.4827\n",
            "Epoch 49/50\n",
            "800/800 [==============================] - 13s 16ms/step - loss: 0.4631 - accuracy: 0.8562 - val_loss: 2.3801 - val_accuracy: 0.4836\n",
            "Epoch 50/50\n",
            "800/800 [==============================] - 13s 16ms/step - loss: 0.4299 - accuracy: 0.8666 - val_loss: 2.4457 - val_accuracy: 0.4791\n"
          ]
        }
      ]
    },
    {
      "cell_type": "code",
      "metadata": {
        "id": "52585wY8ADx3",
        "colab": {
          "base_uri": "https://localhost:8080/",
          "height": 590
        },
        "outputId": "38bc1579-12b8-428c-c9e2-f44f07307579"
      },
      "source": [
        "# Generate generalization metricsZ\n",
        "score = model.evaluate(input_test, target_test, verbose=0)\n",
        "print(f'Test loss: {score[0]} / Test accuracy: {score[1]}')\n",
        "\n",
        "# Visualize history\n",
        "# Plot history: Loss\n",
        "plt.plot(history.history['val_loss'])\n",
        "plt.title('Validation loss history')\n",
        "plt.ylabel('Loss value')\n",
        "plt.xlabel('No. epoch')\n",
        "plt.show()\n",
        "\n",
        "# Plot history: Accuracy\n",
        "plt.plot(history.history['val_accuracy'])\n",
        "plt.title('Validation accuracy history')\n",
        "plt.ylabel('Accuracy value (%)')\n",
        "plt.xlabel('No. epoch')\n",
        "plt.show()"
      ],
      "execution_count": null,
      "outputs": [
        {
          "output_type": "stream",
          "name": "stdout",
          "text": [
            "Test loss: 2.4387195110321045 / Test accuracy: 0.48030000925064087\n"
          ]
        },
        {
          "output_type": "display_data",
          "data": {
            "image/png": "[encoded data removed]",
            "text/plain": [
              "<Figure size 432x288 with 1 Axes>"
            ]
          },
          "metadata": {
            "needs_background": "light"
          }
        },
        {
          "output_type": "display_data",
          "data": {
            "image/png": "[encoded data removed]",
            "text/plain": [
              "<Figure size 432x288 with 1 Axes>"
            ]
          },
          "metadata": {
            "needs_background": "light"
          }
        }
      ]
    },
    {
      "cell_type": "code",
      "metadata": {
        "id": "bDLBMhN03ozJ",
        "colab": {
          "base_uri": "https://localhost:8080/",
          "height": 562
        },
        "outputId": "36fac4f7-7937-4917-d5e3-eabd8d1cf88e"
      },
      "source": [
        "%matplotlib inline\n",
        "import matplotlib.image  as mpimg\n",
        "import matplotlib.pyplot as plt\n",
        "#-----------------------------------------------------------\n",
        "# Retrieve a list of list results on training and test data\n",
        "# sets for each training epoch\n",
        "#-----------------------------------------------------------\n",
        "acc=history.history['accuracy']\n",
        "val_acc=history.history['val_accuracy']\n",
        "loss=history.history['loss']\n",
        "val_loss=history.history['val_loss']\n",
        " \n",
        "epochs=range(len(acc)) # Get number of epochs\n",
        " \n",
        "#------------------------------------------------\n",
        "# Plot training and validation accuracy per epoch\n",
        "#------------------------------------------------\n",
        "plt.plot(epochs, acc, 'r', \"Training Accuracy\")\n",
        "plt.plot(epochs, val_acc, 'b', \"Validation Accuracy\")\n",
        "plt.title('Training and validation accuracy')\n",
        "plt.figure()\n",
        " \n",
        "#------------------------------------------------\n",
        "# Plot training and validation loss per epoch\n",
        "#------------------------------------------------\n",
        "plt.plot(epochs, loss, 'r', \"Training Loss\")\n",
        "plt.plot(epochs, val_loss, 'b', \"Validation Loss\")\n",
        "plt.figure()"
      ],
      "execution_count": null,
      "outputs": [
        {
          "output_type": "execute_result",
          "data": {
            "text/plain": [
              "<Figure size 432x288 with 0 Axes>"
            ]
          },
          "metadata": {},
          "execution_count": 10
        },
        {
          "output_type": "display_data",
          "data": {
            "image/png": "[encoded data removed]",
            "text/plain": [
              "<Figure size 432x288 with 1 Axes>"
            ]
          },
          "metadata": {
            "needs_background": "light"
          }
        },
        {
          "output_type": "display_data",
          "data": {
            "image/png": "[encoded data removed]",
            "text/plain": [
              "<Figure size 432x288 with 1 Axes>"
            ]
          },
          "metadata": {
            "needs_background": "light"
          }
        },
        {
          "output_type": "display_data",
          "data": {
            "text/plain": [
              "<Figure size 432x288 with 0 Axes>"
            ]
          },
          "metadata": {}
        }
      ]
    }
  ]
}