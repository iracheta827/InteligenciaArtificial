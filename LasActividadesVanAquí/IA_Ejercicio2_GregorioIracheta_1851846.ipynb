{
  "nbformat": 4,
  "nbformat_minor": 0,
  "metadata": {
    "colab": {
      "name": "Act2_1851846.ipynb",
      "provenance": [],
      "authorship_tag": "ABX9TyOXlFpZcApP/WJUGzKfN/23",
      "include_colab_link": true
    },
    "kernelspec": {
      "name": "python3",
      "display_name": "Python 3"
    },
    "language_info": {
      "name": "python"
    }
  },
  "cells": [
    {
      "cell_type": "markdown",
      "metadata": {
        "id": "view-in-github",
        "colab_type": "text"
      },
      "source": [
        "<a href=\"https://colab.research.google.com/github/iracheta827/InteligenciaArtificial/blob/main/IA_Ejercicio2_GregorioIracheta_1851846.ipynb\" target=\"_parent\"><img src=\"https://colab.research.google.com/assets/colab-badge.svg\" alt=\"Open In Colab\"/></a>"
      ]
    },
    {
      "cell_type": "markdown",
      "metadata": {
        "id": "Au40x0Y8hwob"
      },
      "source": [
        "**Act. 2 - Ejercicios Introducción Python**\n",
        "- Gregorio Missael Iracheta Arias \n",
        "- Matrícula: 1851846\n",
        "- Clase Martes N4"
      ]
    },
    {
      "cell_type": "markdown",
      "metadata": {
        "id": "9FSI6loqa_JV"
      },
      "source": [
        "# Ejercicio 1"
      ]
    },
    {
      "cell_type": "markdown",
      "metadata": {
        "id": "j7bbq3YTXd91"
      },
      "source": [
        "**Ejercicio 1:**\n",
        "\n",
        "**1.1** Piensa en 7 comidas diferentes que te gusten. Implementa un programa que pregunte por las 7 comidas, las almacene en una lista y que posteriormente imprima cada una de ellas utilizando uno de los ciclos comentados en clase. "
      ]
    },
    {
      "cell_type": "code",
      "metadata": {
        "id": "O5AEud1lhfFS",
        "colab": {
          "base_uri": "https://localhost:8080/",
          "height": 52
        },
        "outputId": "74a46813-cae0-4335-c8c2-11c1a3f0d361"
      },
      "source": [
        "comidas = input('¿Cuáles son tus 7 comidas favoritas?: ')\n",
        "comidas"
      ],
      "execution_count": 1,
      "outputs": [
        {
          "name": "stdout",
          "output_type": "stream",
          "text": [
            "¿Cuáles son tus 7 comidas favoritas?: Hamburguesa, Pizza, Carne Asada, Boneless, Tacos, Tostadas, Hot Dog\n"
          ]
        },
        {
          "output_type": "execute_result",
          "data": {
            "application/vnd.google.colaboratory.intrinsic+json": {
              "type": "string"
            },
            "text/plain": [
              "'Hamburguesa, Pizza, Carne Asada, Boneless, Tacos, Tostadas, Hot Dog'"
            ]
          },
          "metadata": {},
          "execution_count": 1
        }
      ]
    },
    {
      "cell_type": "markdown",
      "metadata": {
        "id": "hyP9MDVFaqtD"
      },
      "source": [
        "Creamos un separador para poder crear una lista"
      ]
    },
    {
      "cell_type": "code",
      "metadata": {
        "colab": {
          "base_uri": "https://localhost:8080/"
        },
        "id": "RTuJ9STRawSt",
        "outputId": "2d78e310-030a-43d5-b50b-985f8a124c47"
      },
      "source": [
        "espacio = ', '\n",
        "f_list = comidas.split(espacio)\n",
        "f_list"
      ],
      "execution_count": 2,
      "outputs": [
        {
          "output_type": "execute_result",
          "data": {
            "text/plain": [
              "['Hamburguesa',\n",
              " 'Pizza',\n",
              " 'Carne Asada',\n",
              " 'Boneless',\n",
              " 'Tacos',\n",
              " 'Tostadas',\n",
              " 'Hot Dog']"
            ]
          },
          "metadata": {},
          "execution_count": 2
        }
      ]
    },
    {
      "cell_type": "markdown",
      "metadata": {
        "id": "r9vOdnePbDVZ"
      },
      "source": [
        "Imprimimos la lista"
      ]
    },
    {
      "cell_type": "code",
      "metadata": {
        "colab": {
          "base_uri": "https://localhost:8080/"
        },
        "id": "6b7deKUNb66g",
        "outputId": "c73c728c-93cc-4496-db88-120018b17fc8"
      },
      "source": [
        "for comidas in f_list:\n",
        "  print(comidas)"
      ],
      "execution_count": 3,
      "outputs": [
        {
          "output_type": "stream",
          "name": "stdout",
          "text": [
            "Hamburguesa\n",
            "Pizza\n",
            "Carne Asada\n",
            "Boneless\n",
            "Tacos\n",
            "Tostadas\n",
            "Hot Dog\n"
          ]
        }
      ]
    },
    {
      "cell_type": "markdown",
      "metadata": {
        "id": "GI3EQUJNcNhn"
      },
      "source": [
        "**1.2** Modifica el ejercicio **1.1** para que imprima cada una de las comidas favoritas junto con una oración inicial: \"Una de mis comidas favoritas es [comida1]\". "
      ]
    },
    {
      "cell_type": "code",
      "metadata": {
        "colab": {
          "base_uri": "https://localhost:8080/"
        },
        "id": "-NlbhgW9cZzz",
        "outputId": "a2714247-fee3-45b1-b390-51e31e4cd93c"
      },
      "source": [
        "for comidas in f_list:\n",
        "  print('Una de mis comidas favoritas es: ' + comidas)"
      ],
      "execution_count": 4,
      "outputs": [
        {
          "output_type": "stream",
          "name": "stdout",
          "text": [
            "Una de mis comidas favoritas es: Hamburguesa\n",
            "Una de mis comidas favoritas es: Pizza\n",
            "Una de mis comidas favoritas es: Carne Asada\n",
            "Una de mis comidas favoritas es: Boneless\n",
            "Una de mis comidas favoritas es: Tacos\n",
            "Una de mis comidas favoritas es: Tostadas\n",
            "Una de mis comidas favoritas es: Hot Dog\n"
          ]
        }
      ]
    },
    {
      "cell_type": "markdown",
      "metadata": {
        "id": "Gg2MYAmRa2Gv"
      },
      "source": [
        "# Ejercicio 2"
      ]
    },
    {
      "cell_type": "markdown",
      "metadata": {
        "id": "UxzyfVfqc5K3"
      },
      "source": [
        "**Ejercicio 2:**\n",
        "\n",
        "Crear un juego de piedra, papel o tijera de dos jugadores. El programa preguntará por la opción del jugador 1 y la opción del jugador 2 y dará como resultado quien ganó el juego."
      ]
    },
    {
      "cell_type": "markdown",
      "metadata": {
        "id": "S6BzZWizdPcT"
      },
      "source": [
        "- Empezamos introduciendo la opción de cada jugador.\n"
      ]
    },
    {
      "cell_type": "code",
      "metadata": {
        "colab": {
          "base_uri": "https://localhost:8080/"
        },
        "id": "2ZSNkQ3GdHk2",
        "outputId": "cff6a747-1456-47aa-ebf2-17d492af3934"
      },
      "source": [
        "jugador1 = input('Jugador 1, introduzca su opción: ')\n",
        "jugador2 = input('Jugador 2, introduzca su opción: ')"
      ],
      "execution_count": 7,
      "outputs": [
        {
          "name": "stdout",
          "output_type": "stream",
          "text": [
            "Jugador 1, introduzca su opción: tijera\n",
            "Jugador 2, introduzca su opción: papel\n"
          ]
        }
      ]
    },
    {
      "cell_type": "markdown",
      "metadata": {
        "id": "qKwbAyg1eLUM"
      },
      "source": [
        "- Creamos los condicionales para determinar un ganador."
      ]
    },
    {
      "cell_type": "code",
      "metadata": {
        "colab": {
          "base_uri": "https://localhost:8080/"
        },
        "id": "ARaWDPZKeTIU",
        "outputId": "ac69486b-98bf-4293-fd3c-7b45e61664b1"
      },
      "source": [
        "if jugador1 == 'piedra' and jugador2 == 'tijera':\n",
        "  print('El jugador uno es el ganador')\n",
        "elif jugador1 == 'papel' and jugador2 == 'piedra':\n",
        "  print('El jugador uno es el ganador')\n",
        "elif jugador1 == 'tijera' and jugador2 == 'papel':\n",
        "  print('El jugador uno es el ganador')\n",
        "elif jugador1 == 'piedra' and jugador2 == 'papel':\n",
        "  print('El jugador dos es el ganador')\n",
        "elif jugador1 == 'papel' and jugador2 == 'tijera':\n",
        "  print('El jugador dos es el ganador')\n",
        "elif jugador1 == 'tijera' and jugador2 == 'piedra':\n",
        "  print('El jugador dos es el ganador')\n",
        "elif jugador1 == jugador2:\n",
        "  print('Empate')\n",
        "else:\n",
        "  print('Opciones inválidas')"
      ],
      "execution_count": 8,
      "outputs": [
        {
          "output_type": "stream",
          "name": "stdout",
          "text": [
            "El jugador uno es el ganador\n"
          ]
        }
      ]
    },
    {
      "cell_type": "markdown",
      "metadata": {
        "id": "ODuwwFmgfqRB"
      },
      "source": [
        "# Ejercicio 3"
      ]
    },
    {
      "cell_type": "markdown",
      "metadata": {
        "id": "YywYjdaXfwTE"
      },
      "source": [
        "**Ejercicio 3:**\n",
        "\n",
        "Implementar un programa que imprima el siguiente patrón:\n",
        "\n",
        "123456\n",
        "\n",
        "12345\n",
        "\n",
        "1234\n",
        "\n",
        "123\n",
        "\n",
        "12\n",
        "\n",
        "1\n",
        "\n",
        "12\n",
        "\n",
        "123\n",
        "\n",
        "1234\n",
        "\n",
        "12345\n",
        "\n",
        "123456"
      ]
    },
    {
      "cell_type": "markdown",
      "metadata": {
        "id": "Vfj8o6FCgoYF"
      },
      "source": [
        "- Ingresamos la variable del primer número (123456)."
      ]
    },
    {
      "cell_type": "code",
      "metadata": {
        "id": "CkmhrRfugKJ2"
      },
      "source": [
        "n = 123456"
      ],
      "execution_count": 12,
      "outputs": []
    },
    {
      "cell_type": "markdown",
      "metadata": {
        "id": "OLJe-W3Qgyn1"
      },
      "source": [
        "- Creamos el ciclo e imprimimos."
      ]
    },
    {
      "cell_type": "code",
      "metadata": {
        "colab": {
          "base_uri": "https://localhost:8080/"
        },
        "id": "miCXtZp3g4k3",
        "outputId": "e29c5eba-81e2-4c26-f8a3-c93613d9868b"
      },
      "source": [
        "for num in range(6, 0, -1):\n",
        "  print(n)\n",
        "  n -= num\n",
        "  n //= 10\n",
        "  if n == 1:\n",
        "    for x in range(2, 7):\n",
        "      print(n)\n",
        "      n *= 10\n",
        "      n += x"
      ],
      "execution_count": 13,
      "outputs": [
        {
          "output_type": "stream",
          "name": "stdout",
          "text": [
            "123456\n",
            "12345\n",
            "1234\n",
            "123\n",
            "12\n",
            "1\n",
            "12\n",
            "123\n",
            "1234\n",
            "12345\n",
            "123456\n"
          ]
        }
      ]
    }
  ]
}
